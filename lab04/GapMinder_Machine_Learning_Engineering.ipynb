{
  "nbformat": 4,
  "nbformat_minor": 0,
  "metadata": {
    "colab": {
      "provenance": []
    },
    "kernelspec": {
      "name": "python3",
      "display_name": "Python 3"
    },
    "language_info": {
      "name": "python"
    }
  },
  "cells": [
    {
      "cell_type": "code",
      "execution_count": 3,
      "metadata": {
        "id": "TYMlUxOCQRem"
      },
      "outputs": [],
      "source": [
        "import warnings\n",
        "warnings.filterwarnings(\"ignore\")\n",
        "\n",
        "import pandas as pd\n",
        "import numpy as np\n",
        "\n",
        "%matplotlib inline\n",
        "import matplotlib.pyplot as plt\n",
        "import seaborn as sns\n",
        "import missingno as msno\n",
        "\n",
        "import scipy\n",
        "from scipy import stats\n",
        "from scipy.stats import norm\n",
        "import statistics\n",
        "import statsmodels.api as sm\n",
        "import statsmodels.formula.api as smf\n",
        "import statsmodels.stats.multicomp as multi\n",
        "import pylab as py\n",
        "\n",
        "import plotly.express as px\n",
        "\n",
        "pd.set_option('display.float_format', lambda x: '%.3f' % x)\n",
        "\n",
        "from sklearn.model_selection import train_test_split\n",
        "from sklearn.tree import DecisionTreeClassifier\n",
        "import sklearn.metrics"
      ]
    },
    {
      "cell_type": "code",
      "source": [
        "df = pd.read_csv(\"/content/Cleaned_GapMinder.csv\")\n",
        "df.head()"
      ],
      "metadata": {
        "colab": {
          "base_uri": "https://localhost:8080/",
          "height": 270
        },
        "id": "DI8WrPjTQv8w",
        "outputId": "bf2313db-4a0a-406d-bc2b-4398cfbac58c"
      },
      "execution_count": 4,
      "outputs": [
        {
          "output_type": "execute_result",
          "data": {
            "text/plain": [
              "   incomeperperson  alcconsumption  armedforcesrate  breastcancerper100th  \\\n",
              "0         8740.966           0.030            0.570                26.800   \n",
              "1         1914.997           7.290            1.025                57.400   \n",
              "2         2231.993           0.690            2.307                23.500   \n",
              "3        20423.174          10.170            1.444                37.403   \n",
              "4         1381.004           5.570            1.461                23.100   \n",
              "\n",
              "    co2emissions  femaleemployrate  hivrate  internetuserate  lifeexpectancy  \\\n",
              "0   75944000.000            25.600    1.935            3.654          49.624   \n",
              "1  223747333.333            42.100    1.935           44.990          76.918   \n",
              "2 2932108666.667            31.700    0.100           12.500          73.131   \n",
              "3 5033261621.667            47.549    1.935           81.000          69.754   \n",
              "4  248358000.000            69.400    2.000           10.000          51.093   \n",
              "\n",
              "   polityscore  relectricperperson  suicideper100th  employrate  urbanrate  \\\n",
              "0        0.000            1173.179            6.684      55.700     24.040   \n",
              "1        9.000             636.341            7.699      51.400     46.720   \n",
              "2        2.000             590.510            4.849      50.500     65.220   \n",
              "3        3.689            1173.179            5.362      58.636     88.920   \n",
              "4       -2.000             172.999           14.555      75.700     56.700   \n",
              "\n",
              "   oilperperson      country countrycode  \n",
              "0         1.484  Afghanistan         AFG  \n",
              "1         1.484      Albania         ALB  \n",
              "2         0.420      Algeria         DZA  \n",
              "3         1.484      Andorra         AND  \n",
              "4         1.484       Angola         AGO  "
            ],
            "text/html": [
              "\n",
              "\n",
              "  <div id=\"df-d3f285d8-e2ea-47a3-8f88-4ef9f363af4d\">\n",
              "    <div class=\"colab-df-container\">\n",
              "      <div>\n",
              "<style scoped>\n",
              "    .dataframe tbody tr th:only-of-type {\n",
              "        vertical-align: middle;\n",
              "    }\n",
              "\n",
              "    .dataframe tbody tr th {\n",
              "        vertical-align: top;\n",
              "    }\n",
              "\n",
              "    .dataframe thead th {\n",
              "        text-align: right;\n",
              "    }\n",
              "</style>\n",
              "<table border=\"1\" class=\"dataframe\">\n",
              "  <thead>\n",
              "    <tr style=\"text-align: right;\">\n",
              "      <th></th>\n",
              "      <th>incomeperperson</th>\n",
              "      <th>alcconsumption</th>\n",
              "      <th>armedforcesrate</th>\n",
              "      <th>breastcancerper100th</th>\n",
              "      <th>co2emissions</th>\n",
              "      <th>femaleemployrate</th>\n",
              "      <th>hivrate</th>\n",
              "      <th>internetuserate</th>\n",
              "      <th>lifeexpectancy</th>\n",
              "      <th>polityscore</th>\n",
              "      <th>relectricperperson</th>\n",
              "      <th>suicideper100th</th>\n",
              "      <th>employrate</th>\n",
              "      <th>urbanrate</th>\n",
              "      <th>oilperperson</th>\n",
              "      <th>country</th>\n",
              "      <th>countrycode</th>\n",
              "    </tr>\n",
              "  </thead>\n",
              "  <tbody>\n",
              "    <tr>\n",
              "      <th>0</th>\n",
              "      <td>8740.966</td>\n",
              "      <td>0.030</td>\n",
              "      <td>0.570</td>\n",
              "      <td>26.800</td>\n",
              "      <td>75944000.000</td>\n",
              "      <td>25.600</td>\n",
              "      <td>1.935</td>\n",
              "      <td>3.654</td>\n",
              "      <td>49.624</td>\n",
              "      <td>0.000</td>\n",
              "      <td>1173.179</td>\n",
              "      <td>6.684</td>\n",
              "      <td>55.700</td>\n",
              "      <td>24.040</td>\n",
              "      <td>1.484</td>\n",
              "      <td>Afghanistan</td>\n",
              "      <td>AFG</td>\n",
              "    </tr>\n",
              "    <tr>\n",
              "      <th>1</th>\n",
              "      <td>1914.997</td>\n",
              "      <td>7.290</td>\n",
              "      <td>1.025</td>\n",
              "      <td>57.400</td>\n",
              "      <td>223747333.333</td>\n",
              "      <td>42.100</td>\n",
              "      <td>1.935</td>\n",
              "      <td>44.990</td>\n",
              "      <td>76.918</td>\n",
              "      <td>9.000</td>\n",
              "      <td>636.341</td>\n",
              "      <td>7.699</td>\n",
              "      <td>51.400</td>\n",
              "      <td>46.720</td>\n",
              "      <td>1.484</td>\n",
              "      <td>Albania</td>\n",
              "      <td>ALB</td>\n",
              "    </tr>\n",
              "    <tr>\n",
              "      <th>2</th>\n",
              "      <td>2231.993</td>\n",
              "      <td>0.690</td>\n",
              "      <td>2.307</td>\n",
              "      <td>23.500</td>\n",
              "      <td>2932108666.667</td>\n",
              "      <td>31.700</td>\n",
              "      <td>0.100</td>\n",
              "      <td>12.500</td>\n",
              "      <td>73.131</td>\n",
              "      <td>2.000</td>\n",
              "      <td>590.510</td>\n",
              "      <td>4.849</td>\n",
              "      <td>50.500</td>\n",
              "      <td>65.220</td>\n",
              "      <td>0.420</td>\n",
              "      <td>Algeria</td>\n",
              "      <td>DZA</td>\n",
              "    </tr>\n",
              "    <tr>\n",
              "      <th>3</th>\n",
              "      <td>20423.174</td>\n",
              "      <td>10.170</td>\n",
              "      <td>1.444</td>\n",
              "      <td>37.403</td>\n",
              "      <td>5033261621.667</td>\n",
              "      <td>47.549</td>\n",
              "      <td>1.935</td>\n",
              "      <td>81.000</td>\n",
              "      <td>69.754</td>\n",
              "      <td>3.689</td>\n",
              "      <td>1173.179</td>\n",
              "      <td>5.362</td>\n",
              "      <td>58.636</td>\n",
              "      <td>88.920</td>\n",
              "      <td>1.484</td>\n",
              "      <td>Andorra</td>\n",
              "      <td>AND</td>\n",
              "    </tr>\n",
              "    <tr>\n",
              "      <th>4</th>\n",
              "      <td>1381.004</td>\n",
              "      <td>5.570</td>\n",
              "      <td>1.461</td>\n",
              "      <td>23.100</td>\n",
              "      <td>248358000.000</td>\n",
              "      <td>69.400</td>\n",
              "      <td>2.000</td>\n",
              "      <td>10.000</td>\n",
              "      <td>51.093</td>\n",
              "      <td>-2.000</td>\n",
              "      <td>172.999</td>\n",
              "      <td>14.555</td>\n",
              "      <td>75.700</td>\n",
              "      <td>56.700</td>\n",
              "      <td>1.484</td>\n",
              "      <td>Angola</td>\n",
              "      <td>AGO</td>\n",
              "    </tr>\n",
              "  </tbody>\n",
              "</table>\n",
              "</div>\n",
              "      <button class=\"colab-df-convert\" onclick=\"convertToInteractive('df-d3f285d8-e2ea-47a3-8f88-4ef9f363af4d')\"\n",
              "              title=\"Convert this dataframe to an interactive table.\"\n",
              "              style=\"display:none;\">\n",
              "\n",
              "  <svg xmlns=\"http://www.w3.org/2000/svg\" height=\"24px\"viewBox=\"0 0 24 24\"\n",
              "       width=\"24px\">\n",
              "    <path d=\"M0 0h24v24H0V0z\" fill=\"none\"/>\n",
              "    <path d=\"M18.56 5.44l.94 2.06.94-2.06 2.06-.94-2.06-.94-.94-2.06-.94 2.06-2.06.94zm-11 1L8.5 8.5l.94-2.06 2.06-.94-2.06-.94L8.5 2.5l-.94 2.06-2.06.94zm10 10l.94 2.06.94-2.06 2.06-.94-2.06-.94-.94-2.06-.94 2.06-2.06.94z\"/><path d=\"M17.41 7.96l-1.37-1.37c-.4-.4-.92-.59-1.43-.59-.52 0-1.04.2-1.43.59L10.3 9.45l-7.72 7.72c-.78.78-.78 2.05 0 2.83L4 21.41c.39.39.9.59 1.41.59.51 0 1.02-.2 1.41-.59l7.78-7.78 2.81-2.81c.8-.78.8-2.07 0-2.86zM5.41 20L4 18.59l7.72-7.72 1.47 1.35L5.41 20z\"/>\n",
              "  </svg>\n",
              "      </button>\n",
              "\n",
              "\n",
              "\n",
              "    <div id=\"df-7dfde300-b052-48a1-abc6-d193a198d943\">\n",
              "      <button class=\"colab-df-quickchart\" onclick=\"quickchart('df-7dfde300-b052-48a1-abc6-d193a198d943')\"\n",
              "              title=\"Suggest charts.\"\n",
              "              style=\"display:none;\">\n",
              "\n",
              "<svg xmlns=\"http://www.w3.org/2000/svg\" height=\"24px\"viewBox=\"0 0 24 24\"\n",
              "     width=\"24px\">\n",
              "    <g>\n",
              "        <path d=\"M19 3H5c-1.1 0-2 .9-2 2v14c0 1.1.9 2 2 2h14c1.1 0 2-.9 2-2V5c0-1.1-.9-2-2-2zM9 17H7v-7h2v7zm4 0h-2V7h2v10zm4 0h-2v-4h2v4z\"/>\n",
              "    </g>\n",
              "</svg>\n",
              "      </button>\n",
              "    </div>\n",
              "\n",
              "<style>\n",
              "  .colab-df-quickchart {\n",
              "    background-color: #E8F0FE;\n",
              "    border: none;\n",
              "    border-radius: 50%;\n",
              "    cursor: pointer;\n",
              "    display: none;\n",
              "    fill: #1967D2;\n",
              "    height: 32px;\n",
              "    padding: 0 0 0 0;\n",
              "    width: 32px;\n",
              "  }\n",
              "\n",
              "  .colab-df-quickchart:hover {\n",
              "    background-color: #E2EBFA;\n",
              "    box-shadow: 0px 1px 2px rgba(60, 64, 67, 0.3), 0px 1px 3px 1px rgba(60, 64, 67, 0.15);\n",
              "    fill: #174EA6;\n",
              "  }\n",
              "\n",
              "  [theme=dark] .colab-df-quickchart {\n",
              "    background-color: #3B4455;\n",
              "    fill: #D2E3FC;\n",
              "  }\n",
              "\n",
              "  [theme=dark] .colab-df-quickchart:hover {\n",
              "    background-color: #434B5C;\n",
              "    box-shadow: 0px 1px 3px 1px rgba(0, 0, 0, 0.15);\n",
              "    filter: drop-shadow(0px 1px 2px rgba(0, 0, 0, 0.3));\n",
              "    fill: #FFFFFF;\n",
              "  }\n",
              "</style>\n",
              "\n",
              "    <script>\n",
              "      async function quickchart(key) {\n",
              "        const containerElement = document.querySelector('#' + key);\n",
              "        const charts = await google.colab.kernel.invokeFunction(\n",
              "            'suggestCharts', [key], {});\n",
              "      }\n",
              "    </script>\n",
              "\n",
              "      <script>\n",
              "\n",
              "function displayQuickchartButton(domScope) {\n",
              "  let quickchartButtonEl =\n",
              "    domScope.querySelector('#df-7dfde300-b052-48a1-abc6-d193a198d943 button.colab-df-quickchart');\n",
              "  quickchartButtonEl.style.display =\n",
              "    google.colab.kernel.accessAllowed ? 'block' : 'none';\n",
              "}\n",
              "\n",
              "        displayQuickchartButton(document);\n",
              "      </script>\n",
              "      <style>\n",
              "    .colab-df-container {\n",
              "      display:flex;\n",
              "      flex-wrap:wrap;\n",
              "      gap: 12px;\n",
              "    }\n",
              "\n",
              "    .colab-df-convert {\n",
              "      background-color: #E8F0FE;\n",
              "      border: none;\n",
              "      border-radius: 50%;\n",
              "      cursor: pointer;\n",
              "      display: none;\n",
              "      fill: #1967D2;\n",
              "      height: 32px;\n",
              "      padding: 0 0 0 0;\n",
              "      width: 32px;\n",
              "    }\n",
              "\n",
              "    .colab-df-convert:hover {\n",
              "      background-color: #E2EBFA;\n",
              "      box-shadow: 0px 1px 2px rgba(60, 64, 67, 0.3), 0px 1px 3px 1px rgba(60, 64, 67, 0.15);\n",
              "      fill: #174EA6;\n",
              "    }\n",
              "\n",
              "    [theme=dark] .colab-df-convert {\n",
              "      background-color: #3B4455;\n",
              "      fill: #D2E3FC;\n",
              "    }\n",
              "\n",
              "    [theme=dark] .colab-df-convert:hover {\n",
              "      background-color: #434B5C;\n",
              "      box-shadow: 0px 1px 3px 1px rgba(0, 0, 0, 0.15);\n",
              "      filter: drop-shadow(0px 1px 2px rgba(0, 0, 0, 0.3));\n",
              "      fill: #FFFFFF;\n",
              "    }\n",
              "  </style>\n",
              "\n",
              "      <script>\n",
              "        const buttonEl =\n",
              "          document.querySelector('#df-d3f285d8-e2ea-47a3-8f88-4ef9f363af4d button.colab-df-convert');\n",
              "        buttonEl.style.display =\n",
              "          google.colab.kernel.accessAllowed ? 'block' : 'none';\n",
              "\n",
              "        async function convertToInteractive(key) {\n",
              "          const element = document.querySelector('#df-d3f285d8-e2ea-47a3-8f88-4ef9f363af4d');\n",
              "          const dataTable =\n",
              "            await google.colab.kernel.invokeFunction('convertToInteractive',\n",
              "                                                     [key], {});\n",
              "          if (!dataTable) return;\n",
              "\n",
              "          const docLinkHtml = 'Like what you see? Visit the ' +\n",
              "            '<a target=\"_blank\" href=https://colab.research.google.com/notebooks/data_table.ipynb>data table notebook</a>'\n",
              "            + ' to learn more about interactive tables.';\n",
              "          element.innerHTML = '';\n",
              "          dataTable['output_type'] = 'display_data';\n",
              "          await google.colab.output.renderOutput(dataTable, element);\n",
              "          const docLink = document.createElement('div');\n",
              "          docLink.innerHTML = docLinkHtml;\n",
              "          element.appendChild(docLink);\n",
              "        }\n",
              "      </script>\n",
              "    </div>\n",
              "  </div>\n"
            ]
          },
          "metadata": {},
          "execution_count": 4
        }
      ]
    },
    {
      "cell_type": "markdown",
      "source": [
        "## Convert the response variable to binary"
      ],
      "metadata": {
        "id": "m99mch5ZQ9Dg"
      }
    },
    {
      "cell_type": "code",
      "source": [
        "binarydata = df.copy()\n",
        "\n",
        "def internetgrp(row):\n",
        "    if row['internetuserate'] < df['internetuserate'].median():\n",
        "        return 0\n",
        "    else:\n",
        "        return 1\n",
        "\n",
        "binarydata['internetuserate'] = binarydata.apply (lambda row: internetgrp(row),axis=1)"
      ],
      "metadata": {
        "id": "I2N6puzKQ6Ln"
      },
      "execution_count": 7,
      "outputs": []
    },
    {
      "cell_type": "code",
      "source": [
        "binarydata.shape"
      ],
      "metadata": {
        "colab": {
          "base_uri": "https://localhost:8080/"
        },
        "id": "6znxHOogQ_Tf",
        "outputId": "7f9a868e-75e6-4486-a4c1-c554ddac7bf2"
      },
      "execution_count": 8,
      "outputs": [
        {
          "output_type": "execute_result",
          "data": {
            "text/plain": [
              "(213, 17)"
            ]
          },
          "metadata": {},
          "execution_count": 8
        }
      ]
    },
    {
      "cell_type": "code",
      "source": [
        "binarydata.describe()"
      ],
      "metadata": {
        "colab": {
          "base_uri": "https://localhost:8080/",
          "height": 364
        },
        "id": "esLyLEMZRI4H",
        "outputId": "ecbc9f7c-9bfb-46a5-9437-780a87297f40"
      },
      "execution_count": 9,
      "outputs": [
        {
          "output_type": "execute_result",
          "data": {
            "text/plain": [
              "       incomeperperson  alcconsumption  armedforcesrate  breastcancerper100th  \\\n",
              "count          213.000         213.000          213.000               213.000   \n",
              "mean          6610.648           6.669            1.211                36.494   \n",
              "std           6933.041           4.526            0.751                18.275   \n",
              "min            103.776           0.030            0.000                 3.900   \n",
              "25%            952.827           3.230            0.570                23.100   \n",
              "50%           3665.348           6.689            1.212                35.000   \n",
              "75%           8740.966           9.500            1.444                44.300   \n",
              "max          20423.174          18.905            2.756                76.100   \n",
              "\n",
              "        co2emissions  femaleemployrate  hivrate  internetuserate  \\\n",
              "count        213.000           213.000  213.000          213.000   \n",
              "mean  1587879863.451            47.471    1.365            0.526   \n",
              "std   2211029532.989            12.437    1.267            0.501   \n",
              "min       132000.000            20.350    0.060            0.000   \n",
              "25%     37950000.000            40.300    0.200            0.000   \n",
              "50%    234864666.667            47.549    1.200            1.000   \n",
              "75%   2421917666.667            53.600    1.935            1.000   \n",
              "max   5997869166.667            73.550    4.539            1.000   \n",
              "\n",
              "       lifeexpectancy  polityscore  relectricperperson  suicideper100th  \\\n",
              "count         213.000      213.000             213.000          213.000   \n",
              "mean           69.799        3.694             984.374            9.344   \n",
              "std             9.087        5.474             650.163            5.074   \n",
              "min            49.624       -9.500               0.000            0.201   \n",
              "25%            65.493        1.000             431.625            5.633   \n",
              "50%            72.231        3.689            1173.179            9.508   \n",
              "75%            76.072        8.000            1173.179           11.980   \n",
              "max            83.394       10.000            2285.509           21.501   \n",
              "\n",
              "       employrate  urbanrate  oilperperson  \n",
              "count     213.000    213.000       213.000  \n",
              "mean       58.592     56.769         1.484  \n",
              "std         9.277     23.276         0.987  \n",
              "min        38.200     10.400         0.032  \n",
              "25%        53.500     37.340         1.484  \n",
              "50%        58.636     56.769         1.484  \n",
              "75%        63.700     73.500         1.484  \n",
              "max        79.000    100.000        12.229  "
            ],
            "text/html": [
              "\n",
              "\n",
              "  <div id=\"df-23881e78-32b8-4689-b01b-68f6cf2cb33b\">\n",
              "    <div class=\"colab-df-container\">\n",
              "      <div>\n",
              "<style scoped>\n",
              "    .dataframe tbody tr th:only-of-type {\n",
              "        vertical-align: middle;\n",
              "    }\n",
              "\n",
              "    .dataframe tbody tr th {\n",
              "        vertical-align: top;\n",
              "    }\n",
              "\n",
              "    .dataframe thead th {\n",
              "        text-align: right;\n",
              "    }\n",
              "</style>\n",
              "<table border=\"1\" class=\"dataframe\">\n",
              "  <thead>\n",
              "    <tr style=\"text-align: right;\">\n",
              "      <th></th>\n",
              "      <th>incomeperperson</th>\n",
              "      <th>alcconsumption</th>\n",
              "      <th>armedforcesrate</th>\n",
              "      <th>breastcancerper100th</th>\n",
              "      <th>co2emissions</th>\n",
              "      <th>femaleemployrate</th>\n",
              "      <th>hivrate</th>\n",
              "      <th>internetuserate</th>\n",
              "      <th>lifeexpectancy</th>\n",
              "      <th>polityscore</th>\n",
              "      <th>relectricperperson</th>\n",
              "      <th>suicideper100th</th>\n",
              "      <th>employrate</th>\n",
              "      <th>urbanrate</th>\n",
              "      <th>oilperperson</th>\n",
              "    </tr>\n",
              "  </thead>\n",
              "  <tbody>\n",
              "    <tr>\n",
              "      <th>count</th>\n",
              "      <td>213.000</td>\n",
              "      <td>213.000</td>\n",
              "      <td>213.000</td>\n",
              "      <td>213.000</td>\n",
              "      <td>213.000</td>\n",
              "      <td>213.000</td>\n",
              "      <td>213.000</td>\n",
              "      <td>213.000</td>\n",
              "      <td>213.000</td>\n",
              "      <td>213.000</td>\n",
              "      <td>213.000</td>\n",
              "      <td>213.000</td>\n",
              "      <td>213.000</td>\n",
              "      <td>213.000</td>\n",
              "      <td>213.000</td>\n",
              "    </tr>\n",
              "    <tr>\n",
              "      <th>mean</th>\n",
              "      <td>6610.648</td>\n",
              "      <td>6.669</td>\n",
              "      <td>1.211</td>\n",
              "      <td>36.494</td>\n",
              "      <td>1587879863.451</td>\n",
              "      <td>47.471</td>\n",
              "      <td>1.365</td>\n",
              "      <td>0.526</td>\n",
              "      <td>69.799</td>\n",
              "      <td>3.694</td>\n",
              "      <td>984.374</td>\n",
              "      <td>9.344</td>\n",
              "      <td>58.592</td>\n",
              "      <td>56.769</td>\n",
              "      <td>1.484</td>\n",
              "    </tr>\n",
              "    <tr>\n",
              "      <th>std</th>\n",
              "      <td>6933.041</td>\n",
              "      <td>4.526</td>\n",
              "      <td>0.751</td>\n",
              "      <td>18.275</td>\n",
              "      <td>2211029532.989</td>\n",
              "      <td>12.437</td>\n",
              "      <td>1.267</td>\n",
              "      <td>0.501</td>\n",
              "      <td>9.087</td>\n",
              "      <td>5.474</td>\n",
              "      <td>650.163</td>\n",
              "      <td>5.074</td>\n",
              "      <td>9.277</td>\n",
              "      <td>23.276</td>\n",
              "      <td>0.987</td>\n",
              "    </tr>\n",
              "    <tr>\n",
              "      <th>min</th>\n",
              "      <td>103.776</td>\n",
              "      <td>0.030</td>\n",
              "      <td>0.000</td>\n",
              "      <td>3.900</td>\n",
              "      <td>132000.000</td>\n",
              "      <td>20.350</td>\n",
              "      <td>0.060</td>\n",
              "      <td>0.000</td>\n",
              "      <td>49.624</td>\n",
              "      <td>-9.500</td>\n",
              "      <td>0.000</td>\n",
              "      <td>0.201</td>\n",
              "      <td>38.200</td>\n",
              "      <td>10.400</td>\n",
              "      <td>0.032</td>\n",
              "    </tr>\n",
              "    <tr>\n",
              "      <th>25%</th>\n",
              "      <td>952.827</td>\n",
              "      <td>3.230</td>\n",
              "      <td>0.570</td>\n",
              "      <td>23.100</td>\n",
              "      <td>37950000.000</td>\n",
              "      <td>40.300</td>\n",
              "      <td>0.200</td>\n",
              "      <td>0.000</td>\n",
              "      <td>65.493</td>\n",
              "      <td>1.000</td>\n",
              "      <td>431.625</td>\n",
              "      <td>5.633</td>\n",
              "      <td>53.500</td>\n",
              "      <td>37.340</td>\n",
              "      <td>1.484</td>\n",
              "    </tr>\n",
              "    <tr>\n",
              "      <th>50%</th>\n",
              "      <td>3665.348</td>\n",
              "      <td>6.689</td>\n",
              "      <td>1.212</td>\n",
              "      <td>35.000</td>\n",
              "      <td>234864666.667</td>\n",
              "      <td>47.549</td>\n",
              "      <td>1.200</td>\n",
              "      <td>1.000</td>\n",
              "      <td>72.231</td>\n",
              "      <td>3.689</td>\n",
              "      <td>1173.179</td>\n",
              "      <td>9.508</td>\n",
              "      <td>58.636</td>\n",
              "      <td>56.769</td>\n",
              "      <td>1.484</td>\n",
              "    </tr>\n",
              "    <tr>\n",
              "      <th>75%</th>\n",
              "      <td>8740.966</td>\n",
              "      <td>9.500</td>\n",
              "      <td>1.444</td>\n",
              "      <td>44.300</td>\n",
              "      <td>2421917666.667</td>\n",
              "      <td>53.600</td>\n",
              "      <td>1.935</td>\n",
              "      <td>1.000</td>\n",
              "      <td>76.072</td>\n",
              "      <td>8.000</td>\n",
              "      <td>1173.179</td>\n",
              "      <td>11.980</td>\n",
              "      <td>63.700</td>\n",
              "      <td>73.500</td>\n",
              "      <td>1.484</td>\n",
              "    </tr>\n",
              "    <tr>\n",
              "      <th>max</th>\n",
              "      <td>20423.174</td>\n",
              "      <td>18.905</td>\n",
              "      <td>2.756</td>\n",
              "      <td>76.100</td>\n",
              "      <td>5997869166.667</td>\n",
              "      <td>73.550</td>\n",
              "      <td>4.539</td>\n",
              "      <td>1.000</td>\n",
              "      <td>83.394</td>\n",
              "      <td>10.000</td>\n",
              "      <td>2285.509</td>\n",
              "      <td>21.501</td>\n",
              "      <td>79.000</td>\n",
              "      <td>100.000</td>\n",
              "      <td>12.229</td>\n",
              "    </tr>\n",
              "  </tbody>\n",
              "</table>\n",
              "</div>\n",
              "      <button class=\"colab-df-convert\" onclick=\"convertToInteractive('df-23881e78-32b8-4689-b01b-68f6cf2cb33b')\"\n",
              "              title=\"Convert this dataframe to an interactive table.\"\n",
              "              style=\"display:none;\">\n",
              "\n",
              "  <svg xmlns=\"http://www.w3.org/2000/svg\" height=\"24px\"viewBox=\"0 0 24 24\"\n",
              "       width=\"24px\">\n",
              "    <path d=\"M0 0h24v24H0V0z\" fill=\"none\"/>\n",
              "    <path d=\"M18.56 5.44l.94 2.06.94-2.06 2.06-.94-2.06-.94-.94-2.06-.94 2.06-2.06.94zm-11 1L8.5 8.5l.94-2.06 2.06-.94-2.06-.94L8.5 2.5l-.94 2.06-2.06.94zm10 10l.94 2.06.94-2.06 2.06-.94-2.06-.94-.94-2.06-.94 2.06-2.06.94z\"/><path d=\"M17.41 7.96l-1.37-1.37c-.4-.4-.92-.59-1.43-.59-.52 0-1.04.2-1.43.59L10.3 9.45l-7.72 7.72c-.78.78-.78 2.05 0 2.83L4 21.41c.39.39.9.59 1.41.59.51 0 1.02-.2 1.41-.59l7.78-7.78 2.81-2.81c.8-.78.8-2.07 0-2.86zM5.41 20L4 18.59l7.72-7.72 1.47 1.35L5.41 20z\"/>\n",
              "  </svg>\n",
              "      </button>\n",
              "\n",
              "\n",
              "\n",
              "    <div id=\"df-14e407af-34ba-447b-8eef-ba8d4dd51b84\">\n",
              "      <button class=\"colab-df-quickchart\" onclick=\"quickchart('df-14e407af-34ba-447b-8eef-ba8d4dd51b84')\"\n",
              "              title=\"Suggest charts.\"\n",
              "              style=\"display:none;\">\n",
              "\n",
              "<svg xmlns=\"http://www.w3.org/2000/svg\" height=\"24px\"viewBox=\"0 0 24 24\"\n",
              "     width=\"24px\">\n",
              "    <g>\n",
              "        <path d=\"M19 3H5c-1.1 0-2 .9-2 2v14c0 1.1.9 2 2 2h14c1.1 0 2-.9 2-2V5c0-1.1-.9-2-2-2zM9 17H7v-7h2v7zm4 0h-2V7h2v10zm4 0h-2v-4h2v4z\"/>\n",
              "    </g>\n",
              "</svg>\n",
              "      </button>\n",
              "    </div>\n",
              "\n",
              "<style>\n",
              "  .colab-df-quickchart {\n",
              "    background-color: #E8F0FE;\n",
              "    border: none;\n",
              "    border-radius: 50%;\n",
              "    cursor: pointer;\n",
              "    display: none;\n",
              "    fill: #1967D2;\n",
              "    height: 32px;\n",
              "    padding: 0 0 0 0;\n",
              "    width: 32px;\n",
              "  }\n",
              "\n",
              "  .colab-df-quickchart:hover {\n",
              "    background-color: #E2EBFA;\n",
              "    box-shadow: 0px 1px 2px rgba(60, 64, 67, 0.3), 0px 1px 3px 1px rgba(60, 64, 67, 0.15);\n",
              "    fill: #174EA6;\n",
              "  }\n",
              "\n",
              "  [theme=dark] .colab-df-quickchart {\n",
              "    background-color: #3B4455;\n",
              "    fill: #D2E3FC;\n",
              "  }\n",
              "\n",
              "  [theme=dark] .colab-df-quickchart:hover {\n",
              "    background-color: #434B5C;\n",
              "    box-shadow: 0px 1px 3px 1px rgba(0, 0, 0, 0.15);\n",
              "    filter: drop-shadow(0px 1px 2px rgba(0, 0, 0, 0.3));\n",
              "    fill: #FFFFFF;\n",
              "  }\n",
              "</style>\n",
              "\n",
              "    <script>\n",
              "      async function quickchart(key) {\n",
              "        const containerElement = document.querySelector('#' + key);\n",
              "        const charts = await google.colab.kernel.invokeFunction(\n",
              "            'suggestCharts', [key], {});\n",
              "      }\n",
              "    </script>\n",
              "\n",
              "      <script>\n",
              "\n",
              "function displayQuickchartButton(domScope) {\n",
              "  let quickchartButtonEl =\n",
              "    domScope.querySelector('#df-14e407af-34ba-447b-8eef-ba8d4dd51b84 button.colab-df-quickchart');\n",
              "  quickchartButtonEl.style.display =\n",
              "    google.colab.kernel.accessAllowed ? 'block' : 'none';\n",
              "}\n",
              "\n",
              "        displayQuickchartButton(document);\n",
              "      </script>\n",
              "      <style>\n",
              "    .colab-df-container {\n",
              "      display:flex;\n",
              "      flex-wrap:wrap;\n",
              "      gap: 12px;\n",
              "    }\n",
              "\n",
              "    .colab-df-convert {\n",
              "      background-color: #E8F0FE;\n",
              "      border: none;\n",
              "      border-radius: 50%;\n",
              "      cursor: pointer;\n",
              "      display: none;\n",
              "      fill: #1967D2;\n",
              "      height: 32px;\n",
              "      padding: 0 0 0 0;\n",
              "      width: 32px;\n",
              "    }\n",
              "\n",
              "    .colab-df-convert:hover {\n",
              "      background-color: #E2EBFA;\n",
              "      box-shadow: 0px 1px 2px rgba(60, 64, 67, 0.3), 0px 1px 3px 1px rgba(60, 64, 67, 0.15);\n",
              "      fill: #174EA6;\n",
              "    }\n",
              "\n",
              "    [theme=dark] .colab-df-convert {\n",
              "      background-color: #3B4455;\n",
              "      fill: #D2E3FC;\n",
              "    }\n",
              "\n",
              "    [theme=dark] .colab-df-convert:hover {\n",
              "      background-color: #434B5C;\n",
              "      box-shadow: 0px 1px 3px 1px rgba(0, 0, 0, 0.15);\n",
              "      filter: drop-shadow(0px 1px 2px rgba(0, 0, 0, 0.3));\n",
              "      fill: #FFFFFF;\n",
              "    }\n",
              "  </style>\n",
              "\n",
              "      <script>\n",
              "        const buttonEl =\n",
              "          document.querySelector('#df-23881e78-32b8-4689-b01b-68f6cf2cb33b button.colab-df-convert');\n",
              "        buttonEl.style.display =\n",
              "          google.colab.kernel.accessAllowed ? 'block' : 'none';\n",
              "\n",
              "        async function convertToInteractive(key) {\n",
              "          const element = document.querySelector('#df-23881e78-32b8-4689-b01b-68f6cf2cb33b');\n",
              "          const dataTable =\n",
              "            await google.colab.kernel.invokeFunction('convertToInteractive',\n",
              "                                                     [key], {});\n",
              "          if (!dataTable) return;\n",
              "\n",
              "          const docLinkHtml = 'Like what you see? Visit the ' +\n",
              "            '<a target=\"_blank\" href=https://colab.research.google.com/notebooks/data_table.ipynb>data table notebook</a>'\n",
              "            + ' to learn more about interactive tables.';\n",
              "          element.innerHTML = '';\n",
              "          dataTable['output_type'] = 'display_data';\n",
              "          await google.colab.output.renderOutput(dataTable, element);\n",
              "          const docLink = document.createElement('div');\n",
              "          docLink.innerHTML = docLinkHtml;\n",
              "          element.appendChild(docLink);\n",
              "        }\n",
              "      </script>\n",
              "    </div>\n",
              "  </div>\n"
            ]
          },
          "metadata": {},
          "execution_count": 9
        }
      ]
    },
    {
      "cell_type": "markdown",
      "source": [
        "## Split into training and testing sets"
      ],
      "metadata": {
        "id": "_q8OOAQtRMkD"
      }
    },
    {
      "cell_type": "code",
      "source": [
        "predictors = binarydata[['incomeperperson','employrate','femaleemployrate','polityscore']]\n",
        "\n",
        "targets = binarydata.internetuserate\n",
        "\n",
        "pred_train, pred_test, tar_train, tar_test = train_test_split(predictors, targets, test_size=.4)\n",
        "\n",
        "print ('Training sample')\n",
        "print (pred_train.shape)\n",
        "print ('')\n",
        "print ('Testing sample')\n",
        "print (pred_test.shape)\n",
        "print ('')\n",
        "print ('Training sample')\n",
        "print (tar_train.shape)\n",
        "print ('')\n",
        "print ('Testing sample')\n",
        "print (tar_test.shape)"
      ],
      "metadata": {
        "colab": {
          "base_uri": "https://localhost:8080/"
        },
        "id": "nGIL4BuERKjn",
        "outputId": "8711361a-1ee0-46e7-91e2-a3748bf4e9a4"
      },
      "execution_count": 10,
      "outputs": [
        {
          "output_type": "stream",
          "name": "stdout",
          "text": [
            "Training sample\n",
            "(127, 4)\n",
            "\n",
            "Testing sample\n",
            "(86, 4)\n",
            "\n",
            "Training sample\n",
            "(127,)\n",
            "\n",
            "Testing sample\n",
            "(86,)\n"
          ]
        }
      ]
    },
    {
      "cell_type": "markdown",
      "source": [
        "## Model Building"
      ],
      "metadata": {
        "id": "OgUsLDvhRTEV"
      }
    },
    {
      "cell_type": "code",
      "source": [
        "classifier = DecisionTreeClassifier()\n",
        "classifier = classifier.fit(pred_train,tar_train)\n",
        "\n",
        "predictions = classifier.predict(pred_test)"
      ],
      "metadata": {
        "id": "Lc5FCvuLRQbn"
      },
      "execution_count": 11,
      "outputs": []
    },
    {
      "cell_type": "markdown",
      "source": [
        "## Display the confusion matrix"
      ],
      "metadata": {
        "id": "wWpxbyooRXvW"
      }
    },
    {
      "cell_type": "code",
      "source": [
        "sklearn.metrics.confusion_matrix(tar_test,predictions)"
      ],
      "metadata": {
        "colab": {
          "base_uri": "https://localhost:8080/"
        },
        "id": "K16c4vTmRWh_",
        "outputId": "ea923d55-b7be-4f2e-80a5-cad6df7d4a00"
      },
      "execution_count": 12,
      "outputs": [
        {
          "output_type": "execute_result",
          "data": {
            "text/plain": [
              "array([[30, 12],\n",
              "       [ 6, 38]])"
            ]
          },
          "metadata": {},
          "execution_count": 12
        }
      ]
    },
    {
      "cell_type": "markdown",
      "source": [
        "## Display the accuracy score"
      ],
      "metadata": {
        "id": "-7w4rWQhRa6w"
      }
    },
    {
      "cell_type": "code",
      "source": [
        "sklearn.metrics.accuracy_score(tar_test, predictions)"
      ],
      "metadata": {
        "colab": {
          "base_uri": "https://localhost:8080/"
        },
        "id": "L63pjk9FRZTW",
        "outputId": "53bdc629-6a37-4cf5-b42e-00f3d4a9b008"
      },
      "execution_count": 13,
      "outputs": [
        {
          "output_type": "execute_result",
          "data": {
            "text/plain": [
              "0.7906976744186046"
            ]
          },
          "metadata": {},
          "execution_count": 13
        }
      ]
    },
    {
      "cell_type": "markdown",
      "source": [
        "## Display the decision tree"
      ],
      "metadata": {
        "id": "-59v1rNJRdqh"
      }
    },
    {
      "cell_type": "code",
      "source": [
        "from sklearn import tree\n",
        "from io import StringIO\n",
        "from IPython.display import Image\n",
        "out = StringIO()\n",
        "tree.export_graphviz(classifier, out_file=out)\n",
        "import pydotplus\n",
        "graph=pydotplus.graph_from_dot_data(out.getvalue())\n",
        "Image(graph.create_png())"
      ],
      "metadata": {
        "colab": {
          "base_uri": "https://localhost:8080/",
          "height": 1000
        },
        "id": "KQjJC8I1RcNv",
        "outputId": "133d0690-6caf-4f59-a89d-272b6cd5d2cd"
      },
      "execution_count": 14,
      "outputs": [
        {
          "output_type": "execute_result",
          "data": {
            "image/png": "[encoded data removed]",
            "text/plain": [
              "<IPython.core.display.Image object>"
            ]
          },
          "metadata": {},
          "execution_count": 14
        }
      ]
    },
    {
      "cell_type": "markdown",
      "source": [
        "The decision tree analysis was performed to test non-linear relationships among the explanatory variables and a single binary, categorical response variable. The training sample has 127 rows of data and 4 explanatory variables; the testing sample has 86 rows of data, and the same 4 explanatory variables. The accuracy score is 79.1%, meaning that the model accurately predicted 79.1% of the internet use rates per country."
      ],
      "metadata": {
        "id": "pOK4cRZTRjEr"
      }
    },
    {
      "cell_type": "markdown",
      "source": [
        "## Running a Random Forest"
      ],
      "metadata": {
        "id": "PTK_rTNcUdg-"
      }
    },
    {
      "cell_type": "code",
      "source": [
        "from sklearn.ensemble import RandomForestClassifier\n",
        "from sklearn.ensemble import ExtraTreesClassifier\n",
        "\n",
        "classifier_r=RandomForestClassifier(n_estimators=25)\n",
        "classifier_r=classifier_r.fit(pred_train,tar_train)\n",
        "predictions_r=classifier_r.predict(pred_test)"
      ],
      "metadata": {
        "id": "yNsCFwylRfHX"
      },
      "execution_count": 20,
      "outputs": []
    },
    {
      "cell_type": "markdown",
      "source": [
        "## Confusion Matrix"
      ],
      "metadata": {
        "id": "-ZtgloaxUklp"
      }
    },
    {
      "cell_type": "code",
      "source": [
        "sklearn.metrics.confusion_matrix(tar_test,predictions_r)"
      ],
      "metadata": {
        "colab": {
          "base_uri": "https://localhost:8080/"
        },
        "id": "KNqNt1AIUjLH",
        "outputId": "dc338c44-4df6-4a4a-d51b-32716f0f1844"
      },
      "execution_count": 16,
      "outputs": [
        {
          "output_type": "execute_result",
          "data": {
            "text/plain": [
              "array([[34,  8],\n",
              "       [ 6, 38]])"
            ]
          },
          "metadata": {},
          "execution_count": 16
        }
      ]
    },
    {
      "cell_type": "markdown",
      "source": [
        "## Accuracy Score"
      ],
      "metadata": {
        "id": "ElWmNPv-UoWy"
      }
    },
    {
      "cell_type": "code",
      "source": [
        "sklearn.metrics.accuracy_score(tar_test, predictions_r)"
      ],
      "metadata": {
        "colab": {
          "base_uri": "https://localhost:8080/"
        },
        "id": "TnOe0WSdUmCn",
        "outputId": "7e7fde2a-bae5-4254-8cfe-cd85a6d3eda8"
      },
      "execution_count": 17,
      "outputs": [
        {
          "output_type": "execute_result",
          "data": {
            "text/plain": [
              "0.8372093023255814"
            ]
          },
          "metadata": {},
          "execution_count": 17
        }
      ]
    },
    {
      "cell_type": "markdown",
      "source": [
        "## Fit an Extra Trees model to the data"
      ],
      "metadata": {
        "id": "-jYP7szoUrlI"
      }
    },
    {
      "cell_type": "code",
      "source": [
        "model_r = ExtraTreesClassifier()\n",
        "model_r.fit(pred_train,tar_train)"
      ],
      "metadata": {
        "colab": {
          "base_uri": "https://localhost:8080/",
          "height": 75
        },
        "id": "M7180P9BUp1v",
        "outputId": "652a15cb-0344-4e82-e7dc-4c1a81670da6"
      },
      "execution_count": 21,
      "outputs": [
        {
          "output_type": "execute_result",
          "data": {
            "text/plain": [
              "ExtraTreesClassifier()"
            ],
            "text/html": [
              "<style>#sk-container-id-1 {color: black;background-color: white;}#sk-container-id-1 pre{padding: 0;}#sk-container-id-1 div.sk-toggleable {background-color: white;}#sk-container-id-1 label.sk-toggleable__label {cursor: pointer;display: block;width: 100%;margin-bottom: 0;padding: 0.3em;box-sizing: border-box;text-align: center;}#sk-container-id-1 label.sk-toggleable__label-arrow:before {content: \"▸\";float: left;margin-right: 0.25em;color: #696969;}#sk-container-id-1 label.sk-toggleable__label-arrow:hover:before {color: black;}#sk-container-id-1 div.sk-estimator:hover label.sk-toggleable__label-arrow:before {color: black;}#sk-container-id-1 div.sk-toggleable__content {max-height: 0;max-width: 0;overflow: hidden;text-align: left;background-color: #f0f8ff;}#sk-container-id-1 div.sk-toggleable__content pre {margin: 0.2em;color: black;border-radius: 0.25em;background-color: #f0f8ff;}#sk-container-id-1 input.sk-toggleable__control:checked~div.sk-toggleable__content {max-height: 200px;max-width: 100%;overflow: auto;}#sk-container-id-1 input.sk-toggleable__control:checked~label.sk-toggleable__label-arrow:before {content: \"▾\";}#sk-container-id-1 div.sk-estimator input.sk-toggleable__control:checked~label.sk-toggleable__label {background-color: #d4ebff;}#sk-container-id-1 div.sk-label input.sk-toggleable__control:checked~label.sk-toggleable__label {background-color: #d4ebff;}#sk-container-id-1 input.sk-hidden--visually {border: 0;clip: rect(1px 1px 1px 1px);clip: rect(1px, 1px, 1px, 1px);height: 1px;margin: -1px;overflow: hidden;padding: 0;position: absolute;width: 1px;}#sk-container-id-1 div.sk-estimator {font-family: monospace;background-color: #f0f8ff;border: 1px dotted black;border-radius: 0.25em;box-sizing: border-box;margin-bottom: 0.5em;}#sk-container-id-1 div.sk-estimator:hover {background-color: #d4ebff;}#sk-container-id-1 div.sk-parallel-item::after {content: \"\";width: 100%;border-bottom: 1px solid gray;flex-grow: 1;}#sk-container-id-1 div.sk-label:hover label.sk-toggleable__label {background-color: #d4ebff;}#sk-container-id-1 div.sk-serial::before {content: \"\";position: absolute;border-left: 1px solid gray;box-sizing: border-box;top: 0;bottom: 0;left: 50%;z-index: 0;}#sk-container-id-1 div.sk-serial {display: flex;flex-direction: column;align-items: center;background-color: white;padding-right: 0.2em;padding-left: 0.2em;position: relative;}#sk-container-id-1 div.sk-item {position: relative;z-index: 1;}#sk-container-id-1 div.sk-parallel {display: flex;align-items: stretch;justify-content: center;background-color: white;position: relative;}#sk-container-id-1 div.sk-item::before, #sk-container-id-1 div.sk-parallel-item::before {content: \"\";position: absolute;border-left: 1px solid gray;box-sizing: border-box;top: 0;bottom: 0;left: 50%;z-index: -1;}#sk-container-id-1 div.sk-parallel-item {display: flex;flex-direction: column;z-index: 1;position: relative;background-color: white;}#sk-container-id-1 div.sk-parallel-item:first-child::after {align-self: flex-end;width: 50%;}#sk-container-id-1 div.sk-parallel-item:last-child::after {align-self: flex-start;width: 50%;}#sk-container-id-1 div.sk-parallel-item:only-child::after {width: 0;}#sk-container-id-1 div.sk-dashed-wrapped {border: 1px dashed gray;margin: 0 0.4em 0.5em 0.4em;box-sizing: border-box;padding-bottom: 0.4em;background-color: white;}#sk-container-id-1 div.sk-label label {font-family: monospace;font-weight: bold;display: inline-block;line-height: 1.2em;}#sk-container-id-1 div.sk-label-container {text-align: center;}#sk-container-id-1 div.sk-container {/* jupyter's `normalize.less` sets `[hidden] { display: none; }` but bootstrap.min.css set `[hidden] { display: none !important; }` so we also need the `!important` here to be able to override the default hidden behavior on the sphinx rendered scikit-learn.org. See: https://github.com/scikit-learn/scikit-learn/issues/21755 */display: inline-block !important;position: relative;}#sk-container-id-1 div.sk-text-repr-fallback {display: none;}</style><div id=\"sk-container-id-1\" class=\"sk-top-container\"><div class=\"sk-text-repr-fallback\"><pre>ExtraTreesClassifier()</pre><b>In a Jupyter environment, please rerun this cell to show the HTML representation or trust the notebook. <br />On GitHub, the HTML representation is unable to render, please try loading this page with nbviewer.org.</b></div><div class=\"sk-container\" hidden><div class=\"sk-item\"><div class=\"sk-estimator sk-toggleable\"><input class=\"sk-toggleable__control sk-hidden--visually\" id=\"sk-estimator-id-1\" type=\"checkbox\" checked><label for=\"sk-estimator-id-1\" class=\"sk-toggleable__label sk-toggleable__label-arrow\">ExtraTreesClassifier</label><div class=\"sk-toggleable__content\"><pre>ExtraTreesClassifier()</pre></div></div></div></div></div>"
            ]
          },
          "metadata": {},
          "execution_count": 21
        }
      ]
    },
    {
      "cell_type": "code",
      "source": [
        "model_r.feature_importances_"
      ],
      "metadata": {
        "colab": {
          "base_uri": "https://localhost:8080/"
        },
        "id": "RZfMLQokUt1P",
        "outputId": "b9c6bcef-1860-4e8a-87cd-66dff25a583f"
      },
      "execution_count": 22,
      "outputs": [
        {
          "output_type": "execute_result",
          "data": {
            "text/plain": [
              "array([0.58895213, 0.16419808, 0.12709768, 0.11975211])"
            ]
          },
          "metadata": {},
          "execution_count": 22
        }
      ]
    },
    {
      "cell_type": "markdown",
      "source": [
        "## Run a different number of trees and see the effect of that on the accuracy of the prediction"
      ],
      "metadata": {
        "id": "MLwff6aUU_lK"
      }
    },
    {
      "cell_type": "code",
      "source": [
        "trees=range(50)\n",
        "accuracy=np.zeros(50)\n",
        "\n",
        "for idx in range(len(trees)):\n",
        "    classifier_r=RandomForestClassifier(n_estimators=idx + 1)\n",
        "    classifier_r=classifier_r.fit(pred_train,tar_train)\n",
        "    predictions_r=classifier_r.predict(pred_test)\n",
        "    accuracy[idx]=sklearn.metrics.accuracy_score(tar_test, predictions_r)\n",
        "\n",
        "plt.cla()\n",
        "plt.plot(trees, accuracy)\n",
        "plt.ylabel('Accuracy Score')\n",
        "plt.xlabel('Number of Trees')\n",
        "plt.show()"
      ],
      "metadata": {
        "colab": {
          "base_uri": "https://localhost:8080/",
          "height": 449
        },
        "id": "VyXCgkhAU-KH",
        "outputId": "43255f0a-b328-4526-9726-0cc512fea6c7"
      },
      "execution_count": 23,
      "outputs": [
        {
          "output_type": "display_data",
          "data": {
            "text/plain": [
              "<Figure size 640x480 with 1 Axes>"
            ],
            "image/png": "[encoded data removed]"
          },
          "metadata": {}
        }
      ]
    },
    {
      "cell_type": "markdown",
      "source": [
        "## Running a Lasso Regression Analysis"
      ],
      "metadata": {
        "id": "6MPbkaOKVTR9"
      }
    },
    {
      "cell_type": "markdown",
      "source": [
        "### Select predictor variables and target variable as separate data sets"
      ],
      "metadata": {
        "id": "Lc65OsIkVZSM"
      }
    },
    {
      "cell_type": "code",
      "source": [
        "predvar = df[['incomeperperson','employrate','femaleemployrate','polityscore',\n",
        "                      'alcconsumption', 'lifeexpectancy', 'oilperperson',\n",
        "                      'relectricperperson', 'urbanrate']]\n",
        "target = df.internetuserate"
      ],
      "metadata": {
        "id": "2_zKEQWXVBxA"
      },
      "execution_count": 24,
      "outputs": []
    },
    {
      "cell_type": "markdown",
      "source": [
        "### Standardize predictors to have mean = 0 and standard deviation = 1"
      ],
      "metadata": {
        "id": "-vtPEJwhVj3q"
      }
    },
    {
      "cell_type": "code",
      "source": [
        "predictors=predvar.copy()\n",
        "from sklearn import preprocessing\n",
        "predictors['incomeperperson']=preprocessing.scale(predictors['incomeperperson'].astype('float64'))\n",
        "predictors['employrate']=preprocessing.scale(predictors['employrate'].astype('float64'))\n",
        "predictors['femaleemployrate']=preprocessing.scale(predictors['femaleemployrate'].astype('float64'))\n",
        "predictors['polityscore']=preprocessing.scale(predictors['polityscore'].astype('float64'))\n",
        "predictors['alcconsumption']=preprocessing.scale(predictors['alcconsumption'].astype('float64'))\n",
        "predictors['lifeexpectancy']=preprocessing.scale(predictors['lifeexpectancy'].astype('float64'))\n",
        "predictors['oilperperson']=preprocessing.scale(predictors['oilperperson'].astype('float64'))\n",
        "predictors['relectricperperson']=preprocessing.scale(predictors['relectricperperson'].astype('float64'))\n",
        "predictors['urbanrate']=preprocessing.scale(predictors['urbanrate'].astype('float64'))"
      ],
      "metadata": {
        "id": "ogpXbqj1ViWv"
      },
      "execution_count": 25,
      "outputs": []
    },
    {
      "cell_type": "markdown",
      "source": [
        "### Split data into train and test sets"
      ],
      "metadata": {
        "id": "CHSiDsFbVqfB"
      }
    },
    {
      "cell_type": "code",
      "source": [
        "pred_train, pred_test, tar_train, tar_test = train_test_split(predictors, target, test_size=.3, random_state=123)"
      ],
      "metadata": {
        "id": "fIOTM6FLVop-"
      },
      "execution_count": 26,
      "outputs": []
    },
    {
      "cell_type": "markdown",
      "source": [
        "### Specify the lasso regression model"
      ],
      "metadata": {
        "id": "7V5kY_UwVtO9"
      }
    },
    {
      "cell_type": "code",
      "source": [
        "from sklearn.linear_model import LassoLarsCV\n",
        "\n",
        "model=LassoLarsCV(cv=10, precompute=False).fit(pred_train,tar_train)"
      ],
      "metadata": {
        "id": "ds4AmY68VsDP"
      },
      "execution_count": 28,
      "outputs": []
    },
    {
      "cell_type": "markdown",
      "source": [
        "### Print the regression coefficients"
      ],
      "metadata": {
        "id": "NLjMHxL8V2Du"
      }
    },
    {
      "cell_type": "code",
      "source": [
        "dict(zip(predictors.columns, model.coef_))"
      ],
      "metadata": {
        "colab": {
          "base_uri": "https://localhost:8080/"
        },
        "id": "ro-KYLYmVvAO",
        "outputId": "ecd0882b-955d-4688-f506-060a5e3c3971"
      },
      "execution_count": 29,
      "outputs": [
        {
          "output_type": "execute_result",
          "data": {
            "text/plain": [
              "{'incomeperperson': 14.386367121983518,\n",
              " 'employrate': 0.0,\n",
              " 'femaleemployrate': 0.0,\n",
              " 'polityscore': 0.0,\n",
              " 'alcconsumption': 7.307480503074373,\n",
              " 'lifeexpectancy': 5.20454325062642,\n",
              " 'oilperperson': 0.0,\n",
              " 'relectricperperson': 1.8647842966263088,\n",
              " 'urbanrate': 0.0}"
            ]
          },
          "metadata": {},
          "execution_count": 29
        }
      ]
    },
    {
      "cell_type": "markdown",
      "source": [
        "### Plot coefficient progression"
      ],
      "metadata": {
        "id": "hGy8nez_V6GU"
      }
    },
    {
      "cell_type": "code",
      "source": [
        "m_log_alphas = -np.log10(model.alphas_)\n",
        "ax = plt.gca()\n",
        "plt.plot(m_log_alphas, model.coef_path_.T)\n",
        "plt.axvline(-np.log10(model.alpha_), linestyle='--', color='k',\n",
        "label='alpha CV')\n",
        "plt.ylabel('Regression Coefficients')\n",
        "plt.xlabel('-log(alpha)')\n",
        "plt.title('Regression Coefficients Progression for Lasso Paths')\n",
        "plt.show()"
      ],
      "metadata": {
        "colab": {
          "base_uri": "https://localhost:8080/",
          "height": 472
        },
        "id": "i184c6iIV3iP",
        "outputId": "bca646fd-8bba-4501-faf4-4a07e4c89f2a"
      },
      "execution_count": 30,
      "outputs": [
        {
          "output_type": "display_data",
          "data": {
            "text/plain": [
              "<Figure size 640x480 with 1 Axes>"
            ],
            "image/png": "[encoded data removed]"
          },
          "metadata": {}
        }
      ]
    },
    {
      "cell_type": "markdown",
      "source": [
        "### Plot mean square error for each fold"
      ],
      "metadata": {
        "id": "XL6EqREcV9Qx"
      }
    },
    {
      "cell_type": "code",
      "source": [
        "m_log_alphascv = -np.log10(model.cv_alphas_)\n",
        "plt.figure()\n",
        "plt.plot(m_log_alphascv, model.mse_path_, ':')\n",
        "plt.plot(m_log_alphascv, model.mse_path_.mean(axis=-1), 'k',\n",
        "label='Average across the folds', linewidth=2)\n",
        "plt.axvline(-np.log10(model.alpha_), linestyle='--', color='k',\n",
        "label='alpha CV')\n",
        "plt.legend()\n",
        "plt.xlabel('-log(alpha)')\n",
        "plt.ylabel('Mean squared error')\n",
        "plt.title('Mean squared error on each fold')\n",
        "plt.show()"
      ],
      "metadata": {
        "colab": {
          "base_uri": "https://localhost:8080/",
          "height": 472
        },
        "id": "_e9cAanQV7in",
        "outputId": "5a3aa90a-cd8e-4eb5-9bab-4434476ffe5e"
      },
      "execution_count": 35,
      "outputs": [
        {
          "output_type": "display_data",
          "data": {
            "text/plain": [
              "<Figure size 640x480 with 1 Axes>"
            ],
            "image/png": "[encoded data removed]"
          },
          "metadata": {}
        }
      ]
    },
    {
      "cell_type": "markdown",
      "source": [
        "### Print the mean squared error from training and test data"
      ],
      "metadata": {
        "id": "Jwqtg90uXASg"
      }
    },
    {
      "cell_type": "code",
      "source": [
        "from sklearn.metrics import mean_squared_error\n",
        "train_error = mean_squared_error(tar_train, model.predict(pred_train))\n",
        "test_error = mean_squared_error(tar_test, model.predict(pred_test))\n",
        "print ('training data MSE')\n",
        "print(train_error)\n",
        "print ('')\n",
        "print ('test data MSE')\n",
        "print(test_error)"
      ],
      "metadata": {
        "colab": {
          "base_uri": "https://localhost:8080/"
        },
        "id": "wAIMi6N6V-wn",
        "outputId": "5f8ad793-bcfb-4bab-dcf8-f138f59074ca"
      },
      "execution_count": 36,
      "outputs": [
        {
          "output_type": "stream",
          "name": "stdout",
          "text": [
            "training data MSE\n",
            "134.31642576057249\n",
            "\n",
            "test data MSE\n",
            "184.62071067625732\n"
          ]
        }
      ]
    },
    {
      "cell_type": "markdown",
      "source": [
        "### Print the r-squared from training and test data"
      ],
      "metadata": {
        "id": "OMu1LTAgXFQo"
      }
    },
    {
      "cell_type": "code",
      "source": [
        "rsquared_train=model.score(pred_train,tar_train)\n",
        "rsquared_test=model.score(pred_test,tar_test)\n",
        "print ('training data R-square')\n",
        "print(rsquared_train)\n",
        "print ('')\n",
        "print ('test data R-square')\n",
        "print(rsquared_test)"
      ],
      "metadata": {
        "colab": {
          "base_uri": "https://localhost:8080/"
        },
        "id": "8-ls8YRKXCRW",
        "outputId": "d9029513-e2cd-46ec-b986-086c41416f79"
      },
      "execution_count": 37,
      "outputs": [
        {
          "output_type": "stream",
          "name": "stdout",
          "text": [
            "training data R-square\n",
            "0.813261537652523\n",
            "\n",
            "test data R-square\n",
            "0.7062669984091163\n"
          ]
        }
      ]
    },
    {
      "cell_type": "markdown",
      "source": [
        "## Running a k-means Cluster Analysis"
      ],
      "metadata": {
        "id": "MQistb9pXaEJ"
      }
    },
    {
      "cell_type": "markdown",
      "source": [
        "### Perform k-means cluster analysis for 1-9 clusters"
      ],
      "metadata": {
        "id": "Pn9IkLvHX-Qx"
      }
    },
    {
      "cell_type": "code",
      "source": [
        "from scipy.spatial.distance import cdist\n",
        "from sklearn.cluster import KMeans\n",
        "\n",
        "clusters = range(1,10)\n",
        "meandist = []\n",
        "\n",
        "for k in clusters:\n",
        "    model = KMeans(n_clusters = k)\n",
        "    model.fit(pred_train)\n",
        "    clusassign = model.predict(pred_train)\n",
        "    meandist.append(sum(np.min(cdist(pred_train, model.cluster_centers_, 'euclidean'), axis=1))\n",
        "    / pred_train.shape[0])"
      ],
      "metadata": {
        "id": "ZbV7o5nlXhxv"
      },
      "execution_count": 40,
      "outputs": []
    },
    {
      "cell_type": "markdown",
      "source": [
        "### Plot average distance from observations from the cluster centroid to use the Elbow Method to identify number of clusters to choose"
      ],
      "metadata": {
        "id": "dQyIzaiPYPIV"
      }
    },
    {
      "cell_type": "code",
      "source": [
        "plt.plot(clusters, meandist)\n",
        "plt.xlabel('Number of clusters')\n",
        "plt.ylabel('Average distance')\n",
        "plt.title('Selecting k with the Elbow Method')\n",
        "plt.show()"
      ],
      "metadata": {
        "colab": {
          "base_uri": "https://localhost:8080/",
          "height": 472
        },
        "id": "WsNd9si6YJB_",
        "outputId": "0ef7110e-da02-4da4-fd9a-f5f589305d80"
      },
      "execution_count": 41,
      "outputs": [
        {
          "output_type": "display_data",
          "data": {
            "text/plain": [
              "<Figure size 640x480 with 1 Axes>"
            ],
            "image/png": "[encoded data removed]"
          },
          "metadata": {}
        }
      ]
    },
    {
      "cell_type": "code",
      "source": [
        "model3 = KMeans(n_clusters=4)\n",
        "model3.fit(pred_train)\n",
        "clusassign = model3.predict(pred_train)"
      ],
      "metadata": {
        "id": "6N7vNTuBYRam"
      },
      "execution_count": 42,
      "outputs": []
    },
    {
      "cell_type": "markdown",
      "source": [
        "### Plot the clusters"
      ],
      "metadata": {
        "id": "3o0ec5U3YYK1"
      }
    },
    {
      "cell_type": "code",
      "source": [
        "from sklearn.decomposition import PCA\n",
        "pca_2 = PCA(2)\n",
        "plt.figure()\n",
        "plot_columns = pca_2.fit_transform(pred_train)\n",
        "plt.scatter(x=plot_columns[:,0], y=plot_columns[:,1], c=model3.labels_,)\n",
        "plt.xlabel('Canonical variable 1')\n",
        "plt.ylabel('Canonical variable 2')\n",
        "plt.title('Scatterplot of Canonical Variables for 4 Clusters')\n",
        "plt.show()"
      ],
      "metadata": {
        "colab": {
          "base_uri": "https://localhost:8080/",
          "height": 472
        },
        "id": "flrncQ6DYVoH",
        "outputId": "95a05fa0-9793-4b88-a97b-1226c0d050f3"
      },
      "execution_count": 44,
      "outputs": [
        {
          "output_type": "display_data",
          "data": {
            "text/plain": [
              "<Figure size 640x480 with 1 Axes>"
            ],
            "image/png": "[encoded data removed]"
          },
          "metadata": {}
        }
      ]
    },
    {
      "cell_type": "markdown",
      "source": [
        "### Begin multiple steps to merge cluster assignment with clustering variables to examine cluster variable means by cluster.\n",
        "\n",
        "**Create a unique identifier variable from the index for the cluster training data to merge with the cluster assignment variable.**"
      ],
      "metadata": {
        "id": "Si5PUWeiYgGM"
      }
    },
    {
      "cell_type": "code",
      "source": [
        "pred_train.reset_index(level=0, inplace=True)"
      ],
      "metadata": {
        "id": "f5oO6lpnYcGH"
      },
      "execution_count": 45,
      "outputs": []
    },
    {
      "cell_type": "markdown",
      "source": [
        "#### Create a list that has the new index variable\n",
        "\n"
      ],
      "metadata": {
        "id": "sk9hY-_tYm1d"
      }
    },
    {
      "cell_type": "code",
      "source": [
        "predlist = list(pred_train['index'])"
      ],
      "metadata": {
        "id": "A23ZJOYWYlwv"
      },
      "execution_count": 46,
      "outputs": []
    },
    {
      "cell_type": "markdown",
      "source": [
        "#### Create a list of cluster assignments"
      ],
      "metadata": {
        "id": "KRp9TlkkYrck"
      }
    },
    {
      "cell_type": "code",
      "source": [
        "labels = list(model3.labels_)"
      ],
      "metadata": {
        "id": "c4aGDmeuYp5_"
      },
      "execution_count": 47,
      "outputs": []
    },
    {
      "cell_type": "markdown",
      "source": [
        "#### Combine index variable list with cluster assignment list into a dictionary"
      ],
      "metadata": {
        "id": "aa8LAm9KYvWY"
      }
    },
    {
      "cell_type": "code",
      "source": [
        "newlist = dict(zip(predlist, labels))\n",
        "print(newlist)"
      ],
      "metadata": {
        "colab": {
          "base_uri": "https://localhost:8080/"
        },
        "id": "I1w3y1hbYt4w",
        "outputId": "fcb95a65-4070-4cbc-df71-81bb640805c7"
      },
      "execution_count": 49,
      "outputs": [
        {
          "output_type": "stream",
          "name": "stdout",
          "text": [
            "{41: 1, 172: 1, 85: 2, 81: 0, 93: 3, 100: 2, 77: 3, 82: 0, 88: 0, 149: 1, 8: 3, 161: 3, 79: 1, 147: 3, 36: 1, 63: 2, 28: 1, 13: 2, 122: 0, 90: 2, 140: 0, 44: 3, 152: 3, 169: 3, 196: 0, 60: 1, 7: 3, 30: 1, 190: 1, 177: 1, 141: 0, 29: 1, 35: 1, 0: 0, 144: 2, 45: 0, 158: 3, 40: 1, 59: 3, 157: 3, 46: 3, 136: 2, 104: 3, 5: 3, 16: 3, 154: 3, 182: 0, 65: 3, 202: 2, 178: 0, 74: 3, 110: 3, 61: 3, 208: 1, 38: 1, 27: 3, 54: 3, 143: 3, 156: 2, 121: 3, 194: 3, 175: 3, 151: 3, 87: 0, 9: 2, 6: 3, 167: 2, 180: 0, 209: 0, 150: 1, 67: 1, 3: 2, 86: 0, 145: 0, 48: 2, 117: 3, 51: 0, 1: 3, 18: 3, 12: 2, 189: 1, 56: 0, 25: 3, 101: 2, 43: 0, 129: 3, 103: 1, 14: 1, 134: 3, 115: 1, 212: 1, 70: 1, 171: 3, 15: 3, 146: 0, 22: 1, 138: 3, 58: 1, 162: 3, 75: 3, 64: 2, 69: 2, 206: 0, 131: 1, 168: 1, 76: 3, 34: 3, 155: 2, 94: 2, 118: 0, 97: 1, 102: 0, 92: 2, 124: 3, 99: 1, 105: 0, 135: 1, 176: 1, 200: 3, 186: 0, 210: 0, 39: 3, 84: 3, 2: 0, 55: 0, 49: 3, 68: 3, 203: 2, 164: 0, 78: 1, 207: 3, 153: 3, 111: 2, 174: 3, 32: 2, 73: 2, 47: 0, 211: 1, 113: 3, 96: 1, 57: 0, 123: 0, 106: 1, 83: 2, 17: 2, 98: 0, 66: 3, 126: 3, 109: 3}\n"
          ]
        }
      ]
    },
    {
      "cell_type": "code",
      "source": [
        "newclus = pd.DataFrame.from_dict(newlist, orient='index')\n",
        "newclus = newclus.sort_index()\n",
        "newclus"
      ],
      "metadata": {
        "colab": {
          "base_uri": "https://localhost:8080/",
          "height": 424
        },
        "id": "Hd7EYmfKYxRY",
        "outputId": "91d1d049-ca48-4bac-e996-1b8682a4e1c0"
      },
      "execution_count": 57,
      "outputs": [
        {
          "output_type": "execute_result",
          "data": {
            "text/plain": [
              "     0\n",
              "0    0\n",
              "1    3\n",
              "2    0\n",
              "3    2\n",
              "5    3\n",
              "..  ..\n",
              "208  1\n",
              "209  0\n",
              "210  0\n",
              "211  1\n",
              "212  1\n",
              "\n",
              "[149 rows x 1 columns]"
            ],
            "text/html": [
              "\n",
              "\n",
              "  <div id=\"df-2680c55a-6825-4f06-943b-317933d65b68\">\n",
              "    <div class=\"colab-df-container\">\n",
              "      <div>\n",
              "<style scoped>\n",
              "    .dataframe tbody tr th:only-of-type {\n",
              "        vertical-align: middle;\n",
              "    }\n",
              "\n",
              "    .dataframe tbody tr th {\n",
              "        vertical-align: top;\n",
              "    }\n",
              "\n",
              "    .dataframe thead th {\n",
              "        text-align: right;\n",
              "    }\n",
              "</style>\n",
              "<table border=\"1\" class=\"dataframe\">\n",
              "  <thead>\n",
              "    <tr style=\"text-align: right;\">\n",
              "      <th></th>\n",
              "      <th>0</th>\n",
              "    </tr>\n",
              "  </thead>\n",
              "  <tbody>\n",
              "    <tr>\n",
              "      <th>0</th>\n",
              "      <td>0</td>\n",
              "    </tr>\n",
              "    <tr>\n",
              "      <th>1</th>\n",
              "      <td>3</td>\n",
              "    </tr>\n",
              "    <tr>\n",
              "      <th>2</th>\n",
              "      <td>0</td>\n",
              "    </tr>\n",
              "    <tr>\n",
              "      <th>3</th>\n",
              "      <td>2</td>\n",
              "    </tr>\n",
              "    <tr>\n",
              "      <th>5</th>\n",
              "      <td>3</td>\n",
              "    </tr>\n",
              "    <tr>\n",
              "      <th>...</th>\n",
              "      <td>...</td>\n",
              "    </tr>\n",
              "    <tr>\n",
              "      <th>208</th>\n",
              "      <td>1</td>\n",
              "    </tr>\n",
              "    <tr>\n",
              "      <th>209</th>\n",
              "      <td>0</td>\n",
              "    </tr>\n",
              "    <tr>\n",
              "      <th>210</th>\n",
              "      <td>0</td>\n",
              "    </tr>\n",
              "    <tr>\n",
              "      <th>211</th>\n",
              "      <td>1</td>\n",
              "    </tr>\n",
              "    <tr>\n",
              "      <th>212</th>\n",
              "      <td>1</td>\n",
              "    </tr>\n",
              "  </tbody>\n",
              "</table>\n",
              "<p>149 rows × 1 columns</p>\n",
              "</div>\n",
              "      <button class=\"colab-df-convert\" onclick=\"convertToInteractive('df-2680c55a-6825-4f06-943b-317933d65b68')\"\n",
              "              title=\"Convert this dataframe to an interactive table.\"\n",
              "              style=\"display:none;\">\n",
              "\n",
              "  <svg xmlns=\"http://www.w3.org/2000/svg\" height=\"24px\"viewBox=\"0 0 24 24\"\n",
              "       width=\"24px\">\n",
              "    <path d=\"M0 0h24v24H0V0z\" fill=\"none\"/>\n",
              "    <path d=\"M18.56 5.44l.94 2.06.94-2.06 2.06-.94-2.06-.94-.94-2.06-.94 2.06-2.06.94zm-11 1L8.5 8.5l.94-2.06 2.06-.94-2.06-.94L8.5 2.5l-.94 2.06-2.06.94zm10 10l.94 2.06.94-2.06 2.06-.94-2.06-.94-.94-2.06-.94 2.06-2.06.94z\"/><path d=\"M17.41 7.96l-1.37-1.37c-.4-.4-.92-.59-1.43-.59-.52 0-1.04.2-1.43.59L10.3 9.45l-7.72 7.72c-.78.78-.78 2.05 0 2.83L4 21.41c.39.39.9.59 1.41.59.51 0 1.02-.2 1.41-.59l7.78-7.78 2.81-2.81c.8-.78.8-2.07 0-2.86zM5.41 20L4 18.59l7.72-7.72 1.47 1.35L5.41 20z\"/>\n",
              "  </svg>\n",
              "      </button>\n",
              "\n",
              "\n",
              "\n",
              "    <div id=\"df-bc3e67f7-833f-4a10-9107-f50d4a4dc002\">\n",
              "      <button class=\"colab-df-quickchart\" onclick=\"quickchart('df-bc3e67f7-833f-4a10-9107-f50d4a4dc002')\"\n",
              "              title=\"Suggest charts.\"\n",
              "              style=\"display:none;\">\n",
              "\n",
              "<svg xmlns=\"http://www.w3.org/2000/svg\" height=\"24px\"viewBox=\"0 0 24 24\"\n",
              "     width=\"24px\">\n",
              "    <g>\n",
              "        <path d=\"M19 3H5c-1.1 0-2 .9-2 2v14c0 1.1.9 2 2 2h14c1.1 0 2-.9 2-2V5c0-1.1-.9-2-2-2zM9 17H7v-7h2v7zm4 0h-2V7h2v10zm4 0h-2v-4h2v4z\"/>\n",
              "    </g>\n",
              "</svg>\n",
              "      </button>\n",
              "    </div>\n",
              "\n",
              "<style>\n",
              "  .colab-df-quickchart {\n",
              "    background-color: #E8F0FE;\n",
              "    border: none;\n",
              "    border-radius: 50%;\n",
              "    cursor: pointer;\n",
              "    display: none;\n",
              "    fill: #1967D2;\n",
              "    height: 32px;\n",
              "    padding: 0 0 0 0;\n",
              "    width: 32px;\n",
              "  }\n",
              "\n",
              "  .colab-df-quickchart:hover {\n",
              "    background-color: #E2EBFA;\n",
              "    box-shadow: 0px 1px 2px rgba(60, 64, 67, 0.3), 0px 1px 3px 1px rgba(60, 64, 67, 0.15);\n",
              "    fill: #174EA6;\n",
              "  }\n",
              "\n",
              "  [theme=dark] .colab-df-quickchart {\n",
              "    background-color: #3B4455;\n",
              "    fill: #D2E3FC;\n",
              "  }\n",
              "\n",
              "  [theme=dark] .colab-df-quickchart:hover {\n",
              "    background-color: #434B5C;\n",
              "    box-shadow: 0px 1px 3px 1px rgba(0, 0, 0, 0.15);\n",
              "    filter: drop-shadow(0px 1px 2px rgba(0, 0, 0, 0.3));\n",
              "    fill: #FFFFFF;\n",
              "  }\n",
              "</style>\n",
              "\n",
              "    <script>\n",
              "      async function quickchart(key) {\n",
              "        const containerElement = document.querySelector('#' + key);\n",
              "        const charts = await google.colab.kernel.invokeFunction(\n",
              "            'suggestCharts', [key], {});\n",
              "      }\n",
              "    </script>\n",
              "\n",
              "      <script>\n",
              "\n",
              "function displayQuickchartButton(domScope) {\n",
              "  let quickchartButtonEl =\n",
              "    domScope.querySelector('#df-bc3e67f7-833f-4a10-9107-f50d4a4dc002 button.colab-df-quickchart');\n",
              "  quickchartButtonEl.style.display =\n",
              "    google.colab.kernel.accessAllowed ? 'block' : 'none';\n",
              "}\n",
              "\n",
              "        displayQuickchartButton(document);\n",
              "      </script>\n",
              "      <style>\n",
              "    .colab-df-container {\n",
              "      display:flex;\n",
              "      flex-wrap:wrap;\n",
              "      gap: 12px;\n",
              "    }\n",
              "\n",
              "    .colab-df-convert {\n",
              "      background-color: #E8F0FE;\n",
              "      border: none;\n",
              "      border-radius: 50%;\n",
              "      cursor: pointer;\n",
              "      display: none;\n",
              "      fill: #1967D2;\n",
              "      height: 32px;\n",
              "      padding: 0 0 0 0;\n",
              "      width: 32px;\n",
              "    }\n",
              "\n",
              "    .colab-df-convert:hover {\n",
              "      background-color: #E2EBFA;\n",
              "      box-shadow: 0px 1px 2px rgba(60, 64, 67, 0.3), 0px 1px 3px 1px rgba(60, 64, 67, 0.15);\n",
              "      fill: #174EA6;\n",
              "    }\n",
              "\n",
              "    [theme=dark] .colab-df-convert {\n",
              "      background-color: #3B4455;\n",
              "      fill: #D2E3FC;\n",
              "    }\n",
              "\n",
              "    [theme=dark] .colab-df-convert:hover {\n",
              "      background-color: #434B5C;\n",
              "      box-shadow: 0px 1px 3px 1px rgba(0, 0, 0, 0.15);\n",
              "      filter: drop-shadow(0px 1px 2px rgba(0, 0, 0, 0.3));\n",
              "      fill: #FFFFFF;\n",
              "    }\n",
              "  </style>\n",
              "\n",
              "      <script>\n",
              "        const buttonEl =\n",
              "          document.querySelector('#df-2680c55a-6825-4f06-943b-317933d65b68 button.colab-df-convert');\n",
              "        buttonEl.style.display =\n",
              "          google.colab.kernel.accessAllowed ? 'block' : 'none';\n",
              "\n",
              "        async function convertToInteractive(key) {\n",
              "          const element = document.querySelector('#df-2680c55a-6825-4f06-943b-317933d65b68');\n",
              "          const dataTable =\n",
              "            await google.colab.kernel.invokeFunction('convertToInteractive',\n",
              "                                                     [key], {});\n",
              "          if (!dataTable) return;\n",
              "\n",
              "          const docLinkHtml = 'Like what you see? Visit the ' +\n",
              "            '<a target=\"_blank\" href=https://colab.research.google.com/notebooks/data_table.ipynb>data table notebook</a>'\n",
              "            + ' to learn more about interactive tables.';\n",
              "          element.innerHTML = '';\n",
              "          dataTable['output_type'] = 'display_data';\n",
              "          await google.colab.output.renderOutput(dataTable, element);\n",
              "          const docLink = document.createElement('div');\n",
              "          docLink.innerHTML = docLinkHtml;\n",
              "          element.appendChild(docLink);\n",
              "        }\n",
              "      </script>\n",
              "    </div>\n",
              "  </div>\n"
            ]
          },
          "metadata": {},
          "execution_count": 57
        }
      ]
    },
    {
      "cell_type": "markdown",
      "source": [
        "#### Rename the cluster assignment column"
      ],
      "metadata": {
        "id": "foIm1_2saZ9w"
      }
    },
    {
      "cell_type": "code",
      "source": [
        "newclus.columns = ['cluster']"
      ],
      "metadata": {
        "id": "hu-c5sq6Y01_"
      },
      "execution_count": 58,
      "outputs": []
    },
    {
      "cell_type": "markdown",
      "source": [
        "####Repeat previous steps for the cluster assignment variable\n",
        "Create a unique identifier variable from the index for the cluster assignment dataframe to merge with cluster training data"
      ],
      "metadata": {
        "id": "F3e3O-VPadIs"
      }
    },
    {
      "cell_type": "code",
      "source": [
        "newclus.reset_index(level=0, inplace=True)"
      ],
      "metadata": {
        "id": "1IaEFSQSabjf"
      },
      "execution_count": 59,
      "outputs": []
    },
    {
      "cell_type": "markdown",
      "source": [
        "#### Merge the cluster assignment dataframe with the cluster training variable dataframe by the index variable"
      ],
      "metadata": {
        "id": "ZP8wnxViah4N"
      }
    },
    {
      "cell_type": "code",
      "source": [
        "merged_train = pd.merge(pred_train, newclus, on='index')\n",
        "merged_train.head(n=100)"
      ],
      "metadata": {
        "colab": {
          "base_uri": "https://localhost:8080/",
          "height": 424
        },
        "id": "7-ASdL_7agff",
        "outputId": "e9f44789-d528-4c58-9914-9b38db21d952"
      },
      "execution_count": 60,
      "outputs": [
        {
          "output_type": "execute_result",
          "data": {
            "text/plain": [
              "    index  incomeperperson  employrate  femaleemployrate  polityscore  \\\n",
              "0      41           -0.941       0.822             0.236        0.239   \n",
              "1     172           -0.917       0.563             1.284        0.605   \n",
              "2      85            1.997       1.622             1.784       -0.001   \n",
              "3      81           -0.902      -0.291            -0.973        0.239   \n",
              "4      93           -0.426      -0.042             0.002        0.971   \n",
              "..    ...              ...         ...               ...          ...   \n",
              "95     22           -0.778       1.276             1.139        0.605   \n",
              "96    138            0.308       0.005             0.006       -0.001   \n",
              "97     58           -0.937       0.682             0.341       -1.958   \n",
              "98    162           -0.197       0.005             0.006       -0.001   \n",
              "99     75            0.308      -1.674            -0.739       -0.001   \n",
              "\n",
              "    alcconsumption  lifeexpectancy  oilperperson  relectricperperson  \\\n",
              "0           -0.726          -2.226         0.000              -1.470   \n",
              "1            0.623          -2.226         0.000               0.291   \n",
              "2            0.157           1.324         0.000               2.006   \n",
              "3           -0.166          -0.850         0.000              -1.503   \n",
              "4           -0.332           0.367         0.000              -0.950   \n",
              "..             ...             ...           ...                 ...   \n",
              "95          -0.197          -0.351         0.000              -1.189   \n",
              "96           0.005           0.741         0.000               0.291   \n",
              "97          -1.114          -0.905         0.000              -1.486   \n",
              "98           1.192           0.534         0.000               0.291   \n",
              "99           0.005           1.108         0.000               0.291   \n",
              "\n",
              "    urbanrate  cluster  \n",
              "0      -0.982        1  \n",
              "1      -0.819        1  \n",
              "2       1.528        2  \n",
              "3      -0.428        0  \n",
              "4      -0.149        3  \n",
              "..        ...      ...  \n",
              "95      0.379        1  \n",
              "96      0.345        3  \n",
              "97     -1.552        1  \n",
              "98     -1.246        3  \n",
              "99     -0.000        3  \n",
              "\n",
              "[100 rows x 11 columns]"
            ],
            "text/html": [
              "\n",
              "\n",
              "  <div id=\"df-9bbc5178-6b0f-4501-bea7-783d51ad15c3\">\n",
              "    <div class=\"colab-df-container\">\n",
              "      <div>\n",
              "<style scoped>\n",
              "    .dataframe tbody tr th:only-of-type {\n",
              "        vertical-align: middle;\n",
              "    }\n",
              "\n",
              "    .dataframe tbody tr th {\n",
              "        vertical-align: top;\n",
              "    }\n",
              "\n",
              "    .dataframe thead th {\n",
              "        text-align: right;\n",
              "    }\n",
              "</style>\n",
              "<table border=\"1\" class=\"dataframe\">\n",
              "  <thead>\n",
              "    <tr style=\"text-align: right;\">\n",
              "      <th></th>\n",
              "      <th>index</th>\n",
              "      <th>incomeperperson</th>\n",
              "      <th>employrate</th>\n",
              "      <th>femaleemployrate</th>\n",
              "      <th>polityscore</th>\n",
              "      <th>alcconsumption</th>\n",
              "      <th>lifeexpectancy</th>\n",
              "      <th>oilperperson</th>\n",
              "      <th>relectricperperson</th>\n",
              "      <th>urbanrate</th>\n",
              "      <th>cluster</th>\n",
              "    </tr>\n",
              "  </thead>\n",
              "  <tbody>\n",
              "    <tr>\n",
              "      <th>0</th>\n",
              "      <td>41</td>\n",
              "      <td>-0.941</td>\n",
              "      <td>0.822</td>\n",
              "      <td>0.236</td>\n",
              "      <td>0.239</td>\n",
              "      <td>-0.726</td>\n",
              "      <td>-2.226</td>\n",
              "      <td>0.000</td>\n",
              "      <td>-1.470</td>\n",
              "      <td>-0.982</td>\n",
              "      <td>1</td>\n",
              "    </tr>\n",
              "    <tr>\n",
              "      <th>1</th>\n",
              "      <td>172</td>\n",
              "      <td>-0.917</td>\n",
              "      <td>0.563</td>\n",
              "      <td>1.284</td>\n",
              "      <td>0.605</td>\n",
              "      <td>0.623</td>\n",
              "      <td>-2.226</td>\n",
              "      <td>0.000</td>\n",
              "      <td>0.291</td>\n",
              "      <td>-0.819</td>\n",
              "      <td>1</td>\n",
              "    </tr>\n",
              "    <tr>\n",
              "      <th>2</th>\n",
              "      <td>85</td>\n",
              "      <td>1.997</td>\n",
              "      <td>1.622</td>\n",
              "      <td>1.784</td>\n",
              "      <td>-0.001</td>\n",
              "      <td>0.157</td>\n",
              "      <td>1.324</td>\n",
              "      <td>0.000</td>\n",
              "      <td>2.006</td>\n",
              "      <td>1.528</td>\n",
              "      <td>2</td>\n",
              "    </tr>\n",
              "    <tr>\n",
              "      <th>3</th>\n",
              "      <td>81</td>\n",
              "      <td>-0.902</td>\n",
              "      <td>-0.291</td>\n",
              "      <td>-0.973</td>\n",
              "      <td>0.239</td>\n",
              "      <td>-0.166</td>\n",
              "      <td>-0.850</td>\n",
              "      <td>0.000</td>\n",
              "      <td>-1.503</td>\n",
              "      <td>-0.428</td>\n",
              "      <td>0</td>\n",
              "    </tr>\n",
              "    <tr>\n",
              "      <th>4</th>\n",
              "      <td>93</td>\n",
              "      <td>-0.426</td>\n",
              "      <td>-0.042</td>\n",
              "      <td>0.002</td>\n",
              "      <td>0.971</td>\n",
              "      <td>-0.332</td>\n",
              "      <td>0.367</td>\n",
              "      <td>0.000</td>\n",
              "      <td>-0.950</td>\n",
              "      <td>-0.149</td>\n",
              "      <td>3</td>\n",
              "    </tr>\n",
              "    <tr>\n",
              "      <th>...</th>\n",
              "      <td>...</td>\n",
              "      <td>...</td>\n",
              "      <td>...</td>\n",
              "      <td>...</td>\n",
              "      <td>...</td>\n",
              "      <td>...</td>\n",
              "      <td>...</td>\n",
              "      <td>...</td>\n",
              "      <td>...</td>\n",
              "      <td>...</td>\n",
              "      <td>...</td>\n",
              "    </tr>\n",
              "    <tr>\n",
              "      <th>95</th>\n",
              "      <td>22</td>\n",
              "      <td>-0.778</td>\n",
              "      <td>1.276</td>\n",
              "      <td>1.139</td>\n",
              "      <td>0.605</td>\n",
              "      <td>-0.197</td>\n",
              "      <td>-0.351</td>\n",
              "      <td>0.000</td>\n",
              "      <td>-1.189</td>\n",
              "      <td>0.379</td>\n",
              "      <td>1</td>\n",
              "    </tr>\n",
              "    <tr>\n",
              "      <th>96</th>\n",
              "      <td>138</td>\n",
              "      <td>0.308</td>\n",
              "      <td>0.005</td>\n",
              "      <td>0.006</td>\n",
              "      <td>-0.001</td>\n",
              "      <td>0.005</td>\n",
              "      <td>0.741</td>\n",
              "      <td>0.000</td>\n",
              "      <td>0.291</td>\n",
              "      <td>0.345</td>\n",
              "      <td>3</td>\n",
              "    </tr>\n",
              "    <tr>\n",
              "      <th>97</th>\n",
              "      <td>58</td>\n",
              "      <td>-0.937</td>\n",
              "      <td>0.682</td>\n",
              "      <td>0.341</td>\n",
              "      <td>-1.958</td>\n",
              "      <td>-1.114</td>\n",
              "      <td>-0.905</td>\n",
              "      <td>0.000</td>\n",
              "      <td>-1.486</td>\n",
              "      <td>-1.552</td>\n",
              "      <td>1</td>\n",
              "    </tr>\n",
              "    <tr>\n",
              "      <th>98</th>\n",
              "      <td>162</td>\n",
              "      <td>-0.197</td>\n",
              "      <td>0.005</td>\n",
              "      <td>0.006</td>\n",
              "      <td>-0.001</td>\n",
              "      <td>1.192</td>\n",
              "      <td>0.534</td>\n",
              "      <td>0.000</td>\n",
              "      <td>0.291</td>\n",
              "      <td>-1.246</td>\n",
              "      <td>3</td>\n",
              "    </tr>\n",
              "    <tr>\n",
              "      <th>99</th>\n",
              "      <td>75</td>\n",
              "      <td>0.308</td>\n",
              "      <td>-1.674</td>\n",
              "      <td>-0.739</td>\n",
              "      <td>-0.001</td>\n",
              "      <td>0.005</td>\n",
              "      <td>1.108</td>\n",
              "      <td>0.000</td>\n",
              "      <td>0.291</td>\n",
              "      <td>-0.000</td>\n",
              "      <td>3</td>\n",
              "    </tr>\n",
              "  </tbody>\n",
              "</table>\n",
              "<p>100 rows × 11 columns</p>\n",
              "</div>\n",
              "      <button class=\"colab-df-convert\" onclick=\"convertToInteractive('df-9bbc5178-6b0f-4501-bea7-783d51ad15c3')\"\n",
              "              title=\"Convert this dataframe to an interactive table.\"\n",
              "              style=\"display:none;\">\n",
              "\n",
              "  <svg xmlns=\"http://www.w3.org/2000/svg\" height=\"24px\"viewBox=\"0 0 24 24\"\n",
              "       width=\"24px\">\n",
              "    <path d=\"M0 0h24v24H0V0z\" fill=\"none\"/>\n",
              "    <path d=\"M18.56 5.44l.94 2.06.94-2.06 2.06-.94-2.06-.94-.94-2.06-.94 2.06-2.06.94zm-11 1L8.5 8.5l.94-2.06 2.06-.94-2.06-.94L8.5 2.5l-.94 2.06-2.06.94zm10 10l.94 2.06.94-2.06 2.06-.94-2.06-.94-.94-2.06-.94 2.06-2.06.94z\"/><path d=\"M17.41 7.96l-1.37-1.37c-.4-.4-.92-.59-1.43-.59-.52 0-1.04.2-1.43.59L10.3 9.45l-7.72 7.72c-.78.78-.78 2.05 0 2.83L4 21.41c.39.39.9.59 1.41.59.51 0 1.02-.2 1.41-.59l7.78-7.78 2.81-2.81c.8-.78.8-2.07 0-2.86zM5.41 20L4 18.59l7.72-7.72 1.47 1.35L5.41 20z\"/>\n",
              "  </svg>\n",
              "      </button>\n",
              "\n",
              "\n",
              "\n",
              "    <div id=\"df-2051f58d-6b23-4726-a3a3-981d5430ab62\">\n",
              "      <button class=\"colab-df-quickchart\" onclick=\"quickchart('df-2051f58d-6b23-4726-a3a3-981d5430ab62')\"\n",
              "              title=\"Suggest charts.\"\n",
              "              style=\"display:none;\">\n",
              "\n",
              "<svg xmlns=\"http://www.w3.org/2000/svg\" height=\"24px\"viewBox=\"0 0 24 24\"\n",
              "     width=\"24px\">\n",
              "    <g>\n",
              "        <path d=\"M19 3H5c-1.1 0-2 .9-2 2v14c0 1.1.9 2 2 2h14c1.1 0 2-.9 2-2V5c0-1.1-.9-2-2-2zM9 17H7v-7h2v7zm4 0h-2V7h2v10zm4 0h-2v-4h2v4z\"/>\n",
              "    </g>\n",
              "</svg>\n",
              "      </button>\n",
              "    </div>\n",
              "\n",
              "<style>\n",
              "  .colab-df-quickchart {\n",
              "    background-color: #E8F0FE;\n",
              "    border: none;\n",
              "    border-radius: 50%;\n",
              "    cursor: pointer;\n",
              "    display: none;\n",
              "    fill: #1967D2;\n",
              "    height: 32px;\n",
              "    padding: 0 0 0 0;\n",
              "    width: 32px;\n",
              "  }\n",
              "\n",
              "  .colab-df-quickchart:hover {\n",
              "    background-color: #E2EBFA;\n",
              "    box-shadow: 0px 1px 2px rgba(60, 64, 67, 0.3), 0px 1px 3px 1px rgba(60, 64, 67, 0.15);\n",
              "    fill: #174EA6;\n",
              "  }\n",
              "\n",
              "  [theme=dark] .colab-df-quickchart {\n",
              "    background-color: #3B4455;\n",
              "    fill: #D2E3FC;\n",
              "  }\n",
              "\n",
              "  [theme=dark] .colab-df-quickchart:hover {\n",
              "    background-color: #434B5C;\n",
              "    box-shadow: 0px 1px 3px 1px rgba(0, 0, 0, 0.15);\n",
              "    filter: drop-shadow(0px 1px 2px rgba(0, 0, 0, 0.3));\n",
              "    fill: #FFFFFF;\n",
              "  }\n",
              "</style>\n",
              "\n",
              "    <script>\n",
              "      async function quickchart(key) {\n",
              "        const containerElement = document.querySelector('#' + key);\n",
              "        const charts = await google.colab.kernel.invokeFunction(\n",
              "            'suggestCharts', [key], {});\n",
              "      }\n",
              "    </script>\n",
              "\n",
              "      <script>\n",
              "\n",
              "function displayQuickchartButton(domScope) {\n",
              "  let quickchartButtonEl =\n",
              "    domScope.querySelector('#df-2051f58d-6b23-4726-a3a3-981d5430ab62 button.colab-df-quickchart');\n",
              "  quickchartButtonEl.style.display =\n",
              "    google.colab.kernel.accessAllowed ? 'block' : 'none';\n",
              "}\n",
              "\n",
              "        displayQuickchartButton(document);\n",
              "      </script>\n",
              "      <style>\n",
              "    .colab-df-container {\n",
              "      display:flex;\n",
              "      flex-wrap:wrap;\n",
              "      gap: 12px;\n",
              "    }\n",
              "\n",
              "    .colab-df-convert {\n",
              "      background-color: #E8F0FE;\n",
              "      border: none;\n",
              "      border-radius: 50%;\n",
              "      cursor: pointer;\n",
              "      display: none;\n",
              "      fill: #1967D2;\n",
              "      height: 32px;\n",
              "      padding: 0 0 0 0;\n",
              "      width: 32px;\n",
              "    }\n",
              "\n",
              "    .colab-df-convert:hover {\n",
              "      background-color: #E2EBFA;\n",
              "      box-shadow: 0px 1px 2px rgba(60, 64, 67, 0.3), 0px 1px 3px 1px rgba(60, 64, 67, 0.15);\n",
              "      fill: #174EA6;\n",
              "    }\n",
              "\n",
              "    [theme=dark] .colab-df-convert {\n",
              "      background-color: #3B4455;\n",
              "      fill: #D2E3FC;\n",
              "    }\n",
              "\n",
              "    [theme=dark] .colab-df-convert:hover {\n",
              "      background-color: #434B5C;\n",
              "      box-shadow: 0px 1px 3px 1px rgba(0, 0, 0, 0.15);\n",
              "      filter: drop-shadow(0px 1px 2px rgba(0, 0, 0, 0.3));\n",
              "      fill: #FFFFFF;\n",
              "    }\n",
              "  </style>\n",
              "\n",
              "      <script>\n",
              "        const buttonEl =\n",
              "          document.querySelector('#df-9bbc5178-6b0f-4501-bea7-783d51ad15c3 button.colab-df-convert');\n",
              "        buttonEl.style.display =\n",
              "          google.colab.kernel.accessAllowed ? 'block' : 'none';\n",
              "\n",
              "        async function convertToInteractive(key) {\n",
              "          const element = document.querySelector('#df-9bbc5178-6b0f-4501-bea7-783d51ad15c3');\n",
              "          const dataTable =\n",
              "            await google.colab.kernel.invokeFunction('convertToInteractive',\n",
              "                                                     [key], {});\n",
              "          if (!dataTable) return;\n",
              "\n",
              "          const docLinkHtml = 'Like what you see? Visit the ' +\n",
              "            '<a target=\"_blank\" href=https://colab.research.google.com/notebooks/data_table.ipynb>data table notebook</a>'\n",
              "            + ' to learn more about interactive tables.';\n",
              "          element.innerHTML = '';\n",
              "          dataTable['output_type'] = 'display_data';\n",
              "          await google.colab.output.renderOutput(dataTable, element);\n",
              "          const docLink = document.createElement('div');\n",
              "          docLink.innerHTML = docLinkHtml;\n",
              "          element.appendChild(docLink);\n",
              "        }\n",
              "      </script>\n",
              "    </div>\n",
              "  </div>\n"
            ]
          },
          "metadata": {},
          "execution_count": 60
        }
      ]
    },
    {
      "cell_type": "markdown",
      "source": [
        "#### Cluster frequencies"
      ],
      "metadata": {
        "id": "suwH-gEoaowG"
      }
    },
    {
      "cell_type": "code",
      "source": [
        "merged_train.cluster.value_counts()"
      ],
      "metadata": {
        "colab": {
          "base_uri": "https://localhost:8080/"
        },
        "id": "3Kpsroi-albH",
        "outputId": "945587c0-662b-4da5-b9b2-7d1b2d071d2b"
      },
      "execution_count": 61,
      "outputs": [
        {
          "output_type": "execute_result",
          "data": {
            "text/plain": [
              "3    55\n",
              "1    35\n",
              "0    33\n",
              "2    26\n",
              "Name: cluster, dtype: int64"
            ]
          },
          "metadata": {},
          "execution_count": 61
        }
      ]
    },
    {
      "cell_type": "markdown",
      "source": [
        "#### Calculate clustering variable means by cluster"
      ],
      "metadata": {
        "id": "7Rel40-JatT5"
      }
    },
    {
      "cell_type": "code",
      "source": [
        "clustergrp = merged_train.groupby('cluster').mean()\n",
        "print(\"Clustering variable means by cluster\")\n",
        "clustergrp"
      ],
      "metadata": {
        "colab": {
          "base_uri": "https://localhost:8080/",
          "height": 224
        },
        "id": "gOdenPuKaqV3",
        "outputId": "23bf35ab-561a-473e-c131-d7d5127d7646"
      },
      "execution_count": 62,
      "outputs": [
        {
          "output_type": "stream",
          "name": "stdout",
          "text": [
            "Clustering variable means by cluster\n"
          ]
        },
        {
          "output_type": "execute_result",
          "data": {
            "text/plain": [
              "          index  incomeperperson  employrate  femaleemployrate  polityscore  \\\n",
              "cluster                                                                       \n",
              "0       113.061           -0.522      -0.656            -1.029       -0.232   \n",
              "1       103.114           -0.794       1.225             1.233       -0.289   \n",
              "2        89.308            1.738       0.030             0.040        0.294   \n",
              "3        97.182           -0.070      -0.306            -0.110        0.434   \n",
              "\n",
              "         alcconsumption  lifeexpectancy  oilperperson  relectricperperson  \\\n",
              "cluster                                                                     \n",
              "0                -0.821          -0.295        -0.260              -0.351   \n",
              "1                -0.511          -1.111        -0.118              -0.599   \n",
              "2                 0.523           1.007         0.687               1.368   \n",
              "3                 0.739           0.448        -0.282              -0.027   \n",
              "\n",
              "         urbanrate  \n",
              "cluster             \n",
              "0           -0.314  \n",
              "1           -1.016  \n",
              "2            1.121  \n",
              "3            0.099  "
            ],
            "text/html": [
              "\n",
              "\n",
              "  <div id=\"df-282e04f6-6a98-4617-96c3-cf5dd7ead1f4\">\n",
              "    <div class=\"colab-df-container\">\n",
              "      <div>\n",
              "<style scoped>\n",
              "    .dataframe tbody tr th:only-of-type {\n",
              "        vertical-align: middle;\n",
              "    }\n",
              "\n",
              "    .dataframe tbody tr th {\n",
              "        vertical-align: top;\n",
              "    }\n",
              "\n",
              "    .dataframe thead th {\n",
              "        text-align: right;\n",
              "    }\n",
              "</style>\n",
              "<table border=\"1\" class=\"dataframe\">\n",
              "  <thead>\n",
              "    <tr style=\"text-align: right;\">\n",
              "      <th></th>\n",
              "      <th>index</th>\n",
              "      <th>incomeperperson</th>\n",
              "      <th>employrate</th>\n",
              "      <th>femaleemployrate</th>\n",
              "      <th>polityscore</th>\n",
              "      <th>alcconsumption</th>\n",
              "      <th>lifeexpectancy</th>\n",
              "      <th>oilperperson</th>\n",
              "      <th>relectricperperson</th>\n",
              "      <th>urbanrate</th>\n",
              "    </tr>\n",
              "    <tr>\n",
              "      <th>cluster</th>\n",
              "      <th></th>\n",
              "      <th></th>\n",
              "      <th></th>\n",
              "      <th></th>\n",
              "      <th></th>\n",
              "      <th></th>\n",
              "      <th></th>\n",
              "      <th></th>\n",
              "      <th></th>\n",
              "      <th></th>\n",
              "    </tr>\n",
              "  </thead>\n",
              "  <tbody>\n",
              "    <tr>\n",
              "      <th>0</th>\n",
              "      <td>113.061</td>\n",
              "      <td>-0.522</td>\n",
              "      <td>-0.656</td>\n",
              "      <td>-1.029</td>\n",
              "      <td>-0.232</td>\n",
              "      <td>-0.821</td>\n",
              "      <td>-0.295</td>\n",
              "      <td>-0.260</td>\n",
              "      <td>-0.351</td>\n",
              "      <td>-0.314</td>\n",
              "    </tr>\n",
              "    <tr>\n",
              "      <th>1</th>\n",
              "      <td>103.114</td>\n",
              "      <td>-0.794</td>\n",
              "      <td>1.225</td>\n",
              "      <td>1.233</td>\n",
              "      <td>-0.289</td>\n",
              "      <td>-0.511</td>\n",
              "      <td>-1.111</td>\n",
              "      <td>-0.118</td>\n",
              "      <td>-0.599</td>\n",
              "      <td>-1.016</td>\n",
              "    </tr>\n",
              "    <tr>\n",
              "      <th>2</th>\n",
              "      <td>89.308</td>\n",
              "      <td>1.738</td>\n",
              "      <td>0.030</td>\n",
              "      <td>0.040</td>\n",
              "      <td>0.294</td>\n",
              "      <td>0.523</td>\n",
              "      <td>1.007</td>\n",
              "      <td>0.687</td>\n",
              "      <td>1.368</td>\n",
              "      <td>1.121</td>\n",
              "    </tr>\n",
              "    <tr>\n",
              "      <th>3</th>\n",
              "      <td>97.182</td>\n",
              "      <td>-0.070</td>\n",
              "      <td>-0.306</td>\n",
              "      <td>-0.110</td>\n",
              "      <td>0.434</td>\n",
              "      <td>0.739</td>\n",
              "      <td>0.448</td>\n",
              "      <td>-0.282</td>\n",
              "      <td>-0.027</td>\n",
              "      <td>0.099</td>\n",
              "    </tr>\n",
              "  </tbody>\n",
              "</table>\n",
              "</div>\n",
              "      <button class=\"colab-df-convert\" onclick=\"convertToInteractive('df-282e04f6-6a98-4617-96c3-cf5dd7ead1f4')\"\n",
              "              title=\"Convert this dataframe to an interactive table.\"\n",
              "              style=\"display:none;\">\n",
              "\n",
              "  <svg xmlns=\"http://www.w3.org/2000/svg\" height=\"24px\"viewBox=\"0 0 24 24\"\n",
              "       width=\"24px\">\n",
              "    <path d=\"M0 0h24v24H0V0z\" fill=\"none\"/>\n",
              "    <path d=\"M18.56 5.44l.94 2.06.94-2.06 2.06-.94-2.06-.94-.94-2.06-.94 2.06-2.06.94zm-11 1L8.5 8.5l.94-2.06 2.06-.94-2.06-.94L8.5 2.5l-.94 2.06-2.06.94zm10 10l.94 2.06.94-2.06 2.06-.94-2.06-.94-.94-2.06-.94 2.06-2.06.94z\"/><path d=\"M17.41 7.96l-1.37-1.37c-.4-.4-.92-.59-1.43-.59-.52 0-1.04.2-1.43.59L10.3 9.45l-7.72 7.72c-.78.78-.78 2.05 0 2.83L4 21.41c.39.39.9.59 1.41.59.51 0 1.02-.2 1.41-.59l7.78-7.78 2.81-2.81c.8-.78.8-2.07 0-2.86zM5.41 20L4 18.59l7.72-7.72 1.47 1.35L5.41 20z\"/>\n",
              "  </svg>\n",
              "      </button>\n",
              "\n",
              "\n",
              "\n",
              "    <div id=\"df-5d25002d-3497-47dc-a84c-f10b13cbdbd5\">\n",
              "      <button class=\"colab-df-quickchart\" onclick=\"quickchart('df-5d25002d-3497-47dc-a84c-f10b13cbdbd5')\"\n",
              "              title=\"Suggest charts.\"\n",
              "              style=\"display:none;\">\n",
              "\n",
              "<svg xmlns=\"http://www.w3.org/2000/svg\" height=\"24px\"viewBox=\"0 0 24 24\"\n",
              "     width=\"24px\">\n",
              "    <g>\n",
              "        <path d=\"M19 3H5c-1.1 0-2 .9-2 2v14c0 1.1.9 2 2 2h14c1.1 0 2-.9 2-2V5c0-1.1-.9-2-2-2zM9 17H7v-7h2v7zm4 0h-2V7h2v10zm4 0h-2v-4h2v4z\"/>\n",
              "    </g>\n",
              "</svg>\n",
              "      </button>\n",
              "    </div>\n",
              "\n",
              "<style>\n",
              "  .colab-df-quickchart {\n",
              "    background-color: #E8F0FE;\n",
              "    border: none;\n",
              "    border-radius: 50%;\n",
              "    cursor: pointer;\n",
              "    display: none;\n",
              "    fill: #1967D2;\n",
              "    height: 32px;\n",
              "    padding: 0 0 0 0;\n",
              "    width: 32px;\n",
              "  }\n",
              "\n",
              "  .colab-df-quickchart:hover {\n",
              "    background-color: #E2EBFA;\n",
              "    box-shadow: 0px 1px 2px rgba(60, 64, 67, 0.3), 0px 1px 3px 1px rgba(60, 64, 67, 0.15);\n",
              "    fill: #174EA6;\n",
              "  }\n",
              "\n",
              "  [theme=dark] .colab-df-quickchart {\n",
              "    background-color: #3B4455;\n",
              "    fill: #D2E3FC;\n",
              "  }\n",
              "\n",
              "  [theme=dark] .colab-df-quickchart:hover {\n",
              "    background-color: #434B5C;\n",
              "    box-shadow: 0px 1px 3px 1px rgba(0, 0, 0, 0.15);\n",
              "    filter: drop-shadow(0px 1px 2px rgba(0, 0, 0, 0.3));\n",
              "    fill: #FFFFFF;\n",
              "  }\n",
              "</style>\n",
              "\n",
              "    <script>\n",
              "      async function quickchart(key) {\n",
              "        const containerElement = document.querySelector('#' + key);\n",
              "        const charts = await google.colab.kernel.invokeFunction(\n",
              "            'suggestCharts', [key], {});\n",
              "      }\n",
              "    </script>\n",
              "\n",
              "      <script>\n",
              "\n",
              "function displayQuickchartButton(domScope) {\n",
              "  let quickchartButtonEl =\n",
              "    domScope.querySelector('#df-5d25002d-3497-47dc-a84c-f10b13cbdbd5 button.colab-df-quickchart');\n",
              "  quickchartButtonEl.style.display =\n",
              "    google.colab.kernel.accessAllowed ? 'block' : 'none';\n",
              "}\n",
              "\n",
              "        displayQuickchartButton(document);\n",
              "      </script>\n",
              "      <style>\n",
              "    .colab-df-container {\n",
              "      display:flex;\n",
              "      flex-wrap:wrap;\n",
              "      gap: 12px;\n",
              "    }\n",
              "\n",
              "    .colab-df-convert {\n",
              "      background-color: #E8F0FE;\n",
              "      border: none;\n",
              "      border-radius: 50%;\n",
              "      cursor: pointer;\n",
              "      display: none;\n",
              "      fill: #1967D2;\n",
              "      height: 32px;\n",
              "      padding: 0 0 0 0;\n",
              "      width: 32px;\n",
              "    }\n",
              "\n",
              "    .colab-df-convert:hover {\n",
              "      background-color: #E2EBFA;\n",
              "      box-shadow: 0px 1px 2px rgba(60, 64, 67, 0.3), 0px 1px 3px 1px rgba(60, 64, 67, 0.15);\n",
              "      fill: #174EA6;\n",
              "    }\n",
              "\n",
              "    [theme=dark] .colab-df-convert {\n",
              "      background-color: #3B4455;\n",
              "      fill: #D2E3FC;\n",
              "    }\n",
              "\n",
              "    [theme=dark] .colab-df-convert:hover {\n",
              "      background-color: #434B5C;\n",
              "      box-shadow: 0px 1px 3px 1px rgba(0, 0, 0, 0.15);\n",
              "      filter: drop-shadow(0px 1px 2px rgba(0, 0, 0, 0.3));\n",
              "      fill: #FFFFFF;\n",
              "    }\n",
              "  </style>\n",
              "\n",
              "      <script>\n",
              "        const buttonEl =\n",
              "          document.querySelector('#df-282e04f6-6a98-4617-96c3-cf5dd7ead1f4 button.colab-df-convert');\n",
              "        buttonEl.style.display =\n",
              "          google.colab.kernel.accessAllowed ? 'block' : 'none';\n",
              "\n",
              "        async function convertToInteractive(key) {\n",
              "          const element = document.querySelector('#df-282e04f6-6a98-4617-96c3-cf5dd7ead1f4');\n",
              "          const dataTable =\n",
              "            await google.colab.kernel.invokeFunction('convertToInteractive',\n",
              "                                                     [key], {});\n",
              "          if (!dataTable) return;\n",
              "\n",
              "          const docLinkHtml = 'Like what you see? Visit the ' +\n",
              "            '<a target=\"_blank\" href=https://colab.research.google.com/notebooks/data_table.ipynb>data table notebook</a>'\n",
              "            + ' to learn more about interactive tables.';\n",
              "          element.innerHTML = '';\n",
              "          dataTable['output_type'] = 'display_data';\n",
              "          await google.colab.output.renderOutput(dataTable, element);\n",
              "          const docLink = document.createElement('div');\n",
              "          docLink.innerHTML = docLinkHtml;\n",
              "          element.appendChild(docLink);\n",
              "        }\n",
              "      </script>\n",
              "    </div>\n",
              "  </div>\n"
            ]
          },
          "metadata": {},
          "execution_count": 62
        }
      ]
    },
    {
      "cell_type": "markdown",
      "source": [
        "**Validate clusters in training data by examining cluster differences in internetuserate using ANOVA. First, merge internetuserate with clustering variables and cluster assignment data**"
      ],
      "metadata": {
        "id": "QwjSS9RuayS5"
      }
    },
    {
      "cell_type": "code",
      "source": [
        "internetuserate_data = df['internetuserate']"
      ],
      "metadata": {
        "id": "vs2doAybavZv"
      },
      "execution_count": 64,
      "outputs": []
    },
    {
      "cell_type": "markdown",
      "source": [
        "#### Split internetuserate data into train and test sets"
      ],
      "metadata": {
        "id": "N56FSAB2bGZA"
      }
    },
    {
      "cell_type": "code",
      "source": [
        "internetuserate_train, internetuserate_test = train_test_split(internetuserate_data, test_size=.3, random_state=123)\n",
        "internetuserate_train1=pd.DataFrame(internetuserate_train)\n",
        "internetuserate_train1.reset_index(level=0, inplace=True)\n",
        "merged_train_all=pd.merge(internetuserate_train1, merged_train, on='index')\n",
        "sub5 = merged_train_all[['internetuserate', 'cluster']]"
      ],
      "metadata": {
        "id": "k4OmO8UXbDkv"
      },
      "execution_count": 66,
      "outputs": []
    },
    {
      "cell_type": "code",
      "source": [
        "internetuserate_mod = smf.ols(formula='internetuserate ~ C(cluster)', data=sub5).fit()\n",
        "internetuserate_mod.summary()"
      ],
      "metadata": {
        "colab": {
          "base_uri": "https://localhost:8080/",
          "height": 494
        },
        "id": "CTK_VJz1bK93",
        "outputId": "6f2967fb-a725-4ed1-87df-2afc2f375865"
      },
      "execution_count": 67,
      "outputs": [
        {
          "output_type": "execute_result",
          "data": {
            "text/plain": [
              "<class 'statsmodels.iolib.summary.Summary'>\n",
              "\"\"\"\n",
              "                            OLS Regression Results                            \n",
              "==============================================================================\n",
              "Dep. Variable:        internetuserate   R-squared:                       0.663\n",
              "Model:                            OLS   Adj. R-squared:                  0.656\n",
              "Method:                 Least Squares   F-statistic:                     95.28\n",
              "Date:                Tue, 01 Aug 2023   Prob (F-statistic):           4.06e-34\n",
              "Time:                        00:08:38   Log-Likelihood:                -620.37\n",
              "No. Observations:                 149   AIC:                             1249.\n",
              "Df Residuals:                     145   BIC:                             1261.\n",
              "Df Model:                           3                                         \n",
              "Covariance Type:            nonrobust                                         \n",
              "===================================================================================\n",
              "                      coef    std err          t      P>|t|      [0.025      0.975]\n",
              "-----------------------------------------------------------------------------------\n",
              "Intercept          16.3326      2.746      5.949      0.000      10.906      21.759\n",
              "C(cluster)[T.1]    -4.4421      3.827     -1.161      0.248     -12.006       3.122\n",
              "C(cluster)[T.2]    55.2628      4.136     13.362      0.000      47.088      63.437\n",
              "C(cluster)[T.3]    29.2605      3.473      8.425      0.000      22.396      36.124\n",
              "==============================================================================\n",
              "Omnibus:                        3.010   Durbin-Watson:                   1.905\n",
              "Prob(Omnibus):                  0.222   Jarque-Bera (JB):                2.840\n",
              "Skew:                           0.338   Prob(JB):                        0.242\n",
              "Kurtosis:                       2.983   Cond. No.                         5.16\n",
              "==============================================================================\n",
              "\n",
              "Notes:\n",
              "[1] Standard Errors assume that the covariance matrix of the errors is correctly specified.\n",
              "\"\"\""
            ],
            "text/html": [
              "<table class=\"simpletable\">\n",
              "<caption>OLS Regression Results</caption>\n",
              "<tr>\n",
              "  <th>Dep. Variable:</th>     <td>internetuserate</td> <th>  R-squared:         </th> <td>   0.663</td>\n",
              "</tr>\n",
              "<tr>\n",
              "  <th>Model:</th>                   <td>OLS</td>       <th>  Adj. R-squared:    </th> <td>   0.656</td>\n",
              "</tr>\n",
              "<tr>\n",
              "  <th>Method:</th>             <td>Least Squares</td>  <th>  F-statistic:       </th> <td>   95.28</td>\n",
              "</tr>\n",
              "<tr>\n",
              "  <th>Date:</th>             <td>Tue, 01 Aug 2023</td> <th>  Prob (F-statistic):</th> <td>4.06e-34</td>\n",
              "</tr>\n",
              "<tr>\n",
              "  <th>Time:</th>                 <td>00:08:38</td>     <th>  Log-Likelihood:    </th> <td> -620.37</td>\n",
              "</tr>\n",
              "<tr>\n",
              "  <th>No. Observations:</th>      <td>   149</td>      <th>  AIC:               </th> <td>   1249.</td>\n",
              "</tr>\n",
              "<tr>\n",
              "  <th>Df Residuals:</th>          <td>   145</td>      <th>  BIC:               </th> <td>   1261.</td>\n",
              "</tr>\n",
              "<tr>\n",
              "  <th>Df Model:</th>              <td>     3</td>      <th>                     </th>     <td> </td>   \n",
              "</tr>\n",
              "<tr>\n",
              "  <th>Covariance Type:</th>      <td>nonrobust</td>    <th>                     </th>     <td> </td>   \n",
              "</tr>\n",
              "</table>\n",
              "<table class=\"simpletable\">\n",
              "<tr>\n",
              "         <td></td>            <th>coef</th>     <th>std err</th>      <th>t</th>      <th>P>|t|</th>  <th>[0.025</th>    <th>0.975]</th>  \n",
              "</tr>\n",
              "<tr>\n",
              "  <th>Intercept</th>       <td>   16.3326</td> <td>    2.746</td> <td>    5.949</td> <td> 0.000</td> <td>   10.906</td> <td>   21.759</td>\n",
              "</tr>\n",
              "<tr>\n",
              "  <th>C(cluster)[T.1]</th> <td>   -4.4421</td> <td>    3.827</td> <td>   -1.161</td> <td> 0.248</td> <td>  -12.006</td> <td>    3.122</td>\n",
              "</tr>\n",
              "<tr>\n",
              "  <th>C(cluster)[T.2]</th> <td>   55.2628</td> <td>    4.136</td> <td>   13.362</td> <td> 0.000</td> <td>   47.088</td> <td>   63.437</td>\n",
              "</tr>\n",
              "<tr>\n",
              "  <th>C(cluster)[T.3]</th> <td>   29.2605</td> <td>    3.473</td> <td>    8.425</td> <td> 0.000</td> <td>   22.396</td> <td>   36.124</td>\n",
              "</tr>\n",
              "</table>\n",
              "<table class=\"simpletable\">\n",
              "<tr>\n",
              "  <th>Omnibus:</th>       <td> 3.010</td> <th>  Durbin-Watson:     </th> <td>   1.905</td>\n",
              "</tr>\n",
              "<tr>\n",
              "  <th>Prob(Omnibus):</th> <td> 0.222</td> <th>  Jarque-Bera (JB):  </th> <td>   2.840</td>\n",
              "</tr>\n",
              "<tr>\n",
              "  <th>Skew:</th>          <td> 0.338</td> <th>  Prob(JB):          </th> <td>   0.242</td>\n",
              "</tr>\n",
              "<tr>\n",
              "  <th>Kurtosis:</th>      <td> 2.983</td> <th>  Cond. No.          </th> <td>    5.16</td>\n",
              "</tr>\n",
              "</table><br/><br/>Notes:<br/>[1] Standard Errors assume that the covariance matrix of the errors is correctly specified."
            ]
          },
          "metadata": {},
          "execution_count": 67
        }
      ]
    },
    {
      "cell_type": "markdown",
      "source": [
        "### Means for internetuserate by cluster"
      ],
      "metadata": {
        "id": "B1uvPZzUbREM"
      }
    },
    {
      "cell_type": "code",
      "source": [
        "m1= sub5.groupby('cluster').mean()\n",
        "m1"
      ],
      "metadata": {
        "colab": {
          "base_uri": "https://localhost:8080/",
          "height": 206
        },
        "id": "J23XAdiCbN5H",
        "outputId": "793b3b53-d9b4-44b4-e4b4-fbabfc68419c"
      },
      "execution_count": 68,
      "outputs": [
        {
          "output_type": "execute_result",
          "data": {
            "text/plain": [
              "         internetuserate\n",
              "cluster                 \n",
              "0                 16.333\n",
              "1                 11.890\n",
              "2                 71.595\n",
              "3                 45.593"
            ],
            "text/html": [
              "\n",
              "\n",
              "  <div id=\"df-0e91b2af-aa8a-4952-8c64-bee1be0f69ca\">\n",
              "    <div class=\"colab-df-container\">\n",
              "      <div>\n",
              "<style scoped>\n",
              "    .dataframe tbody tr th:only-of-type {\n",
              "        vertical-align: middle;\n",
              "    }\n",
              "\n",
              "    .dataframe tbody tr th {\n",
              "        vertical-align: top;\n",
              "    }\n",
              "\n",
              "    .dataframe thead th {\n",
              "        text-align: right;\n",
              "    }\n",
              "</style>\n",
              "<table border=\"1\" class=\"dataframe\">\n",
              "  <thead>\n",
              "    <tr style=\"text-align: right;\">\n",
              "      <th></th>\n",
              "      <th>internetuserate</th>\n",
              "    </tr>\n",
              "    <tr>\n",
              "      <th>cluster</th>\n",
              "      <th></th>\n",
              "    </tr>\n",
              "  </thead>\n",
              "  <tbody>\n",
              "    <tr>\n",
              "      <th>0</th>\n",
              "      <td>16.333</td>\n",
              "    </tr>\n",
              "    <tr>\n",
              "      <th>1</th>\n",
              "      <td>11.890</td>\n",
              "    </tr>\n",
              "    <tr>\n",
              "      <th>2</th>\n",
              "      <td>71.595</td>\n",
              "    </tr>\n",
              "    <tr>\n",
              "      <th>3</th>\n",
              "      <td>45.593</td>\n",
              "    </tr>\n",
              "  </tbody>\n",
              "</table>\n",
              "</div>\n",
              "      <button class=\"colab-df-convert\" onclick=\"convertToInteractive('df-0e91b2af-aa8a-4952-8c64-bee1be0f69ca')\"\n",
              "              title=\"Convert this dataframe to an interactive table.\"\n",
              "              style=\"display:none;\">\n",
              "\n",
              "  <svg xmlns=\"http://www.w3.org/2000/svg\" height=\"24px\"viewBox=\"0 0 24 24\"\n",
              "       width=\"24px\">\n",
              "    <path d=\"M0 0h24v24H0V0z\" fill=\"none\"/>\n",
              "    <path d=\"M18.56 5.44l.94 2.06.94-2.06 2.06-.94-2.06-.94-.94-2.06-.94 2.06-2.06.94zm-11 1L8.5 8.5l.94-2.06 2.06-.94-2.06-.94L8.5 2.5l-.94 2.06-2.06.94zm10 10l.94 2.06.94-2.06 2.06-.94-2.06-.94-.94-2.06-.94 2.06-2.06.94z\"/><path d=\"M17.41 7.96l-1.37-1.37c-.4-.4-.92-.59-1.43-.59-.52 0-1.04.2-1.43.59L10.3 9.45l-7.72 7.72c-.78.78-.78 2.05 0 2.83L4 21.41c.39.39.9.59 1.41.59.51 0 1.02-.2 1.41-.59l7.78-7.78 2.81-2.81c.8-.78.8-2.07 0-2.86zM5.41 20L4 18.59l7.72-7.72 1.47 1.35L5.41 20z\"/>\n",
              "  </svg>\n",
              "      </button>\n",
              "\n",
              "\n",
              "\n",
              "    <div id=\"df-83537c17-2765-4d91-a795-f8ca1b386e34\">\n",
              "      <button class=\"colab-df-quickchart\" onclick=\"quickchart('df-83537c17-2765-4d91-a795-f8ca1b386e34')\"\n",
              "              title=\"Suggest charts.\"\n",
              "              style=\"display:none;\">\n",
              "\n",
              "<svg xmlns=\"http://www.w3.org/2000/svg\" height=\"24px\"viewBox=\"0 0 24 24\"\n",
              "     width=\"24px\">\n",
              "    <g>\n",
              "        <path d=\"M19 3H5c-1.1 0-2 .9-2 2v14c0 1.1.9 2 2 2h14c1.1 0 2-.9 2-2V5c0-1.1-.9-2-2-2zM9 17H7v-7h2v7zm4 0h-2V7h2v10zm4 0h-2v-4h2v4z\"/>\n",
              "    </g>\n",
              "</svg>\n",
              "      </button>\n",
              "    </div>\n",
              "\n",
              "<style>\n",
              "  .colab-df-quickchart {\n",
              "    background-color: #E8F0FE;\n",
              "    border: none;\n",
              "    border-radius: 50%;\n",
              "    cursor: pointer;\n",
              "    display: none;\n",
              "    fill: #1967D2;\n",
              "    height: 32px;\n",
              "    padding: 0 0 0 0;\n",
              "    width: 32px;\n",
              "  }\n",
              "\n",
              "  .colab-df-quickchart:hover {\n",
              "    background-color: #E2EBFA;\n",
              "    box-shadow: 0px 1px 2px rgba(60, 64, 67, 0.3), 0px 1px 3px 1px rgba(60, 64, 67, 0.15);\n",
              "    fill: #174EA6;\n",
              "  }\n",
              "\n",
              "  [theme=dark] .colab-df-quickchart {\n",
              "    background-color: #3B4455;\n",
              "    fill: #D2E3FC;\n",
              "  }\n",
              "\n",
              "  [theme=dark] .colab-df-quickchart:hover {\n",
              "    background-color: #434B5C;\n",
              "    box-shadow: 0px 1px 3px 1px rgba(0, 0, 0, 0.15);\n",
              "    filter: drop-shadow(0px 1px 2px rgba(0, 0, 0, 0.3));\n",
              "    fill: #FFFFFF;\n",
              "  }\n",
              "</style>\n",
              "\n",
              "    <script>\n",
              "      async function quickchart(key) {\n",
              "        const containerElement = document.querySelector('#' + key);\n",
              "        const charts = await google.colab.kernel.invokeFunction(\n",
              "            'suggestCharts', [key], {});\n",
              "      }\n",
              "    </script>\n",
              "\n",
              "      <script>\n",
              "\n",
              "function displayQuickchartButton(domScope) {\n",
              "  let quickchartButtonEl =\n",
              "    domScope.querySelector('#df-83537c17-2765-4d91-a795-f8ca1b386e34 button.colab-df-quickchart');\n",
              "  quickchartButtonEl.style.display =\n",
              "    google.colab.kernel.accessAllowed ? 'block' : 'none';\n",
              "}\n",
              "\n",
              "        displayQuickchartButton(document);\n",
              "      </script>\n",
              "      <style>\n",
              "    .colab-df-container {\n",
              "      display:flex;\n",
              "      flex-wrap:wrap;\n",
              "      gap: 12px;\n",
              "    }\n",
              "\n",
              "    .colab-df-convert {\n",
              "      background-color: #E8F0FE;\n",
              "      border: none;\n",
              "      border-radius: 50%;\n",
              "      cursor: pointer;\n",
              "      display: none;\n",
              "      fill: #1967D2;\n",
              "      height: 32px;\n",
              "      padding: 0 0 0 0;\n",
              "      width: 32px;\n",
              "    }\n",
              "\n",
              "    .colab-df-convert:hover {\n",
              "      background-color: #E2EBFA;\n",
              "      box-shadow: 0px 1px 2px rgba(60, 64, 67, 0.3), 0px 1px 3px 1px rgba(60, 64, 67, 0.15);\n",
              "      fill: #174EA6;\n",
              "    }\n",
              "\n",
              "    [theme=dark] .colab-df-convert {\n",
              "      background-color: #3B4455;\n",
              "      fill: #D2E3FC;\n",
              "    }\n",
              "\n",
              "    [theme=dark] .colab-df-convert:hover {\n",
              "      background-color: #434B5C;\n",
              "      box-shadow: 0px 1px 3px 1px rgba(0, 0, 0, 0.15);\n",
              "      filter: drop-shadow(0px 1px 2px rgba(0, 0, 0, 0.3));\n",
              "      fill: #FFFFFF;\n",
              "    }\n",
              "  </style>\n",
              "\n",
              "      <script>\n",
              "        const buttonEl =\n",
              "          document.querySelector('#df-0e91b2af-aa8a-4952-8c64-bee1be0f69ca button.colab-df-convert');\n",
              "        buttonEl.style.display =\n",
              "          google.colab.kernel.accessAllowed ? 'block' : 'none';\n",
              "\n",
              "        async function convertToInteractive(key) {\n",
              "          const element = document.querySelector('#df-0e91b2af-aa8a-4952-8c64-bee1be0f69ca');\n",
              "          const dataTable =\n",
              "            await google.colab.kernel.invokeFunction('convertToInteractive',\n",
              "                                                     [key], {});\n",
              "          if (!dataTable) return;\n",
              "\n",
              "          const docLinkHtml = 'Like what you see? Visit the ' +\n",
              "            '<a target=\"_blank\" href=https://colab.research.google.com/notebooks/data_table.ipynb>data table notebook</a>'\n",
              "            + ' to learn more about interactive tables.';\n",
              "          element.innerHTML = '';\n",
              "          dataTable['output_type'] = 'display_data';\n",
              "          await google.colab.output.renderOutput(dataTable, element);\n",
              "          const docLink = document.createElement('div');\n",
              "          docLink.innerHTML = docLinkHtml;\n",
              "          element.appendChild(docLink);\n",
              "        }\n",
              "      </script>\n",
              "    </div>\n",
              "  </div>\n"
            ]
          },
          "metadata": {},
          "execution_count": 68
        }
      ]
    },
    {
      "cell_type": "markdown",
      "source": [
        "### Standard deviations for internetuserate by cluster"
      ],
      "metadata": {
        "id": "2AuPDyRgbU3T"
      }
    },
    {
      "cell_type": "code",
      "source": [
        "m2= sub5.groupby('cluster').std()\n",
        "m2"
      ],
      "metadata": {
        "colab": {
          "base_uri": "https://localhost:8080/",
          "height": 206
        },
        "id": "tYttLdtubSho",
        "outputId": "a1b8bfce-f8ee-490e-e84e-4a2cfb009a1b"
      },
      "execution_count": 69,
      "outputs": [
        {
          "output_type": "execute_result",
          "data": {
            "text/plain": [
              "         internetuserate\n",
              "cluster                 \n",
              "0                 13.517\n",
              "1                 12.007\n",
              "2                 17.308\n",
              "3                 18.172"
            ],
            "text/html": [
              "\n",
              "\n",
              "  <div id=\"df-7b7b6d76-f768-48a0-bab6-b03003a4d598\">\n",
              "    <div class=\"colab-df-container\">\n",
              "      <div>\n",
              "<style scoped>\n",
              "    .dataframe tbody tr th:only-of-type {\n",
              "        vertical-align: middle;\n",
              "    }\n",
              "\n",
              "    .dataframe tbody tr th {\n",
              "        vertical-align: top;\n",
              "    }\n",
              "\n",
              "    .dataframe thead th {\n",
              "        text-align: right;\n",
              "    }\n",
              "</style>\n",
              "<table border=\"1\" class=\"dataframe\">\n",
              "  <thead>\n",
              "    <tr style=\"text-align: right;\">\n",
              "      <th></th>\n",
              "      <th>internetuserate</th>\n",
              "    </tr>\n",
              "    <tr>\n",
              "      <th>cluster</th>\n",
              "      <th></th>\n",
              "    </tr>\n",
              "  </thead>\n",
              "  <tbody>\n",
              "    <tr>\n",
              "      <th>0</th>\n",
              "      <td>13.517</td>\n",
              "    </tr>\n",
              "    <tr>\n",
              "      <th>1</th>\n",
              "      <td>12.007</td>\n",
              "    </tr>\n",
              "    <tr>\n",
              "      <th>2</th>\n",
              "      <td>17.308</td>\n",
              "    </tr>\n",
              "    <tr>\n",
              "      <th>3</th>\n",
              "      <td>18.172</td>\n",
              "    </tr>\n",
              "  </tbody>\n",
              "</table>\n",
              "</div>\n",
              "      <button class=\"colab-df-convert\" onclick=\"convertToInteractive('df-7b7b6d76-f768-48a0-bab6-b03003a4d598')\"\n",
              "              title=\"Convert this dataframe to an interactive table.\"\n",
              "              style=\"display:none;\">\n",
              "\n",
              "  <svg xmlns=\"http://www.w3.org/2000/svg\" height=\"24px\"viewBox=\"0 0 24 24\"\n",
              "       width=\"24px\">\n",
              "    <path d=\"M0 0h24v24H0V0z\" fill=\"none\"/>\n",
              "    <path d=\"M18.56 5.44l.94 2.06.94-2.06 2.06-.94-2.06-.94-.94-2.06-.94 2.06-2.06.94zm-11 1L8.5 8.5l.94-2.06 2.06-.94-2.06-.94L8.5 2.5l-.94 2.06-2.06.94zm10 10l.94 2.06.94-2.06 2.06-.94-2.06-.94-.94-2.06-.94 2.06-2.06.94z\"/><path d=\"M17.41 7.96l-1.37-1.37c-.4-.4-.92-.59-1.43-.59-.52 0-1.04.2-1.43.59L10.3 9.45l-7.72 7.72c-.78.78-.78 2.05 0 2.83L4 21.41c.39.39.9.59 1.41.59.51 0 1.02-.2 1.41-.59l7.78-7.78 2.81-2.81c.8-.78.8-2.07 0-2.86zM5.41 20L4 18.59l7.72-7.72 1.47 1.35L5.41 20z\"/>\n",
              "  </svg>\n",
              "      </button>\n",
              "\n",
              "\n",
              "\n",
              "    <div id=\"df-a12e1d95-25c5-46e3-900d-8a0515c9fbe7\">\n",
              "      <button class=\"colab-df-quickchart\" onclick=\"quickchart('df-a12e1d95-25c5-46e3-900d-8a0515c9fbe7')\"\n",
              "              title=\"Suggest charts.\"\n",
              "              style=\"display:none;\">\n",
              "\n",
              "<svg xmlns=\"http://www.w3.org/2000/svg\" height=\"24px\"viewBox=\"0 0 24 24\"\n",
              "     width=\"24px\">\n",
              "    <g>\n",
              "        <path d=\"M19 3H5c-1.1 0-2 .9-2 2v14c0 1.1.9 2 2 2h14c1.1 0 2-.9 2-2V5c0-1.1-.9-2-2-2zM9 17H7v-7h2v7zm4 0h-2V7h2v10zm4 0h-2v-4h2v4z\"/>\n",
              "    </g>\n",
              "</svg>\n",
              "      </button>\n",
              "    </div>\n",
              "\n",
              "<style>\n",
              "  .colab-df-quickchart {\n",
              "    background-color: #E8F0FE;\n",
              "    border: none;\n",
              "    border-radius: 50%;\n",
              "    cursor: pointer;\n",
              "    display: none;\n",
              "    fill: #1967D2;\n",
              "    height: 32px;\n",
              "    padding: 0 0 0 0;\n",
              "    width: 32px;\n",
              "  }\n",
              "\n",
              "  .colab-df-quickchart:hover {\n",
              "    background-color: #E2EBFA;\n",
              "    box-shadow: 0px 1px 2px rgba(60, 64, 67, 0.3), 0px 1px 3px 1px rgba(60, 64, 67, 0.15);\n",
              "    fill: #174EA6;\n",
              "  }\n",
              "\n",
              "  [theme=dark] .colab-df-quickchart {\n",
              "    background-color: #3B4455;\n",
              "    fill: #D2E3FC;\n",
              "  }\n",
              "\n",
              "  [theme=dark] .colab-df-quickchart:hover {\n",
              "    background-color: #434B5C;\n",
              "    box-shadow: 0px 1px 3px 1px rgba(0, 0, 0, 0.15);\n",
              "    filter: drop-shadow(0px 1px 2px rgba(0, 0, 0, 0.3));\n",
              "    fill: #FFFFFF;\n",
              "  }\n",
              "</style>\n",
              "\n",
              "    <script>\n",
              "      async function quickchart(key) {\n",
              "        const containerElement = document.querySelector('#' + key);\n",
              "        const charts = await google.colab.kernel.invokeFunction(\n",
              "            'suggestCharts', [key], {});\n",
              "      }\n",
              "    </script>\n",
              "\n",
              "      <script>\n",
              "\n",
              "function displayQuickchartButton(domScope) {\n",
              "  let quickchartButtonEl =\n",
              "    domScope.querySelector('#df-a12e1d95-25c5-46e3-900d-8a0515c9fbe7 button.colab-df-quickchart');\n",
              "  quickchartButtonEl.style.display =\n",
              "    google.colab.kernel.accessAllowed ? 'block' : 'none';\n",
              "}\n",
              "\n",
              "        displayQuickchartButton(document);\n",
              "      </script>\n",
              "      <style>\n",
              "    .colab-df-container {\n",
              "      display:flex;\n",
              "      flex-wrap:wrap;\n",
              "      gap: 12px;\n",
              "    }\n",
              "\n",
              "    .colab-df-convert {\n",
              "      background-color: #E8F0FE;\n",
              "      border: none;\n",
              "      border-radius: 50%;\n",
              "      cursor: pointer;\n",
              "      display: none;\n",
              "      fill: #1967D2;\n",
              "      height: 32px;\n",
              "      padding: 0 0 0 0;\n",
              "      width: 32px;\n",
              "    }\n",
              "\n",
              "    .colab-df-convert:hover {\n",
              "      background-color: #E2EBFA;\n",
              "      box-shadow: 0px 1px 2px rgba(60, 64, 67, 0.3), 0px 1px 3px 1px rgba(60, 64, 67, 0.15);\n",
              "      fill: #174EA6;\n",
              "    }\n",
              "\n",
              "    [theme=dark] .colab-df-convert {\n",
              "      background-color: #3B4455;\n",
              "      fill: #D2E3FC;\n",
              "    }\n",
              "\n",
              "    [theme=dark] .colab-df-convert:hover {\n",
              "      background-color: #434B5C;\n",
              "      box-shadow: 0px 1px 3px 1px rgba(0, 0, 0, 0.15);\n",
              "      filter: drop-shadow(0px 1px 2px rgba(0, 0, 0, 0.3));\n",
              "      fill: #FFFFFF;\n",
              "    }\n",
              "  </style>\n",
              "\n",
              "      <script>\n",
              "        const buttonEl =\n",
              "          document.querySelector('#df-7b7b6d76-f768-48a0-bab6-b03003a4d598 button.colab-df-convert');\n",
              "        buttonEl.style.display =\n",
              "          google.colab.kernel.accessAllowed ? 'block' : 'none';\n",
              "\n",
              "        async function convertToInteractive(key) {\n",
              "          const element = document.querySelector('#df-7b7b6d76-f768-48a0-bab6-b03003a4d598');\n",
              "          const dataTable =\n",
              "            await google.colab.kernel.invokeFunction('convertToInteractive',\n",
              "                                                     [key], {});\n",
              "          if (!dataTable) return;\n",
              "\n",
              "          const docLinkHtml = 'Like what you see? Visit the ' +\n",
              "            '<a target=\"_blank\" href=https://colab.research.google.com/notebooks/data_table.ipynb>data table notebook</a>'\n",
              "            + ' to learn more about interactive tables.';\n",
              "          element.innerHTML = '';\n",
              "          dataTable['output_type'] = 'display_data';\n",
              "          await google.colab.output.renderOutput(dataTable, element);\n",
              "          const docLink = document.createElement('div');\n",
              "          docLink.innerHTML = docLinkHtml;\n",
              "          element.appendChild(docLink);\n",
              "        }\n",
              "      </script>\n",
              "    </div>\n",
              "  </div>\n"
            ]
          },
          "metadata": {},
          "execution_count": 69
        }
      ]
    },
    {
      "cell_type": "code",
      "source": [
        "mc1 = multi.MultiComparison(sub5['internetuserate'], sub5['cluster'])\n",
        "res1 = mc1.tukeyhsd()\n",
        "res1.summary()"
      ],
      "metadata": {
        "colab": {
          "base_uri": "https://localhost:8080/",
          "height": 186
        },
        "id": "WAyemfQebWFn",
        "outputId": "234c4c33-8882-4f9e-e3c7-889cbd1d270e"
      },
      "execution_count": 70,
      "outputs": [
        {
          "output_type": "execute_result",
          "data": {
            "text/plain": [
              "<class 'statsmodels.iolib.table.SimpleTable'>"
            ],
            "text/html": [
              "<table class=\"simpletable\">\n",
              "<caption>Multiple Comparison of Means - Tukey HSD, FWER=0.05</caption>\n",
              "<tr>\n",
              "  <th>group1</th> <th>group2</th> <th>meandiff</th>  <th>p-adj</th>   <th>lower</th>    <th>upper</th>  <th>reject</th>\n",
              "</tr>\n",
              "<tr>\n",
              "     <td>0</td>      <td>1</td>    <td>-4.4421</td> <td>0.6525</td> <td>-14.3886</td>  <td>5.5043</td>   <td>False</td>\n",
              "</tr>\n",
              "<tr>\n",
              "     <td>0</td>      <td>2</td>    <td>55.2628</td>   <td>0.0</td>   <td>44.5133</td>  <td>66.0122</td>  <td>True</td> \n",
              "</tr>\n",
              "<tr>\n",
              "     <td>0</td>      <td>3</td>    <td>29.2605</td>   <td>0.0</td>   <td>20.2342</td>  <td>38.2867</td>  <td>True</td> \n",
              "</tr>\n",
              "<tr>\n",
              "     <td>1</td>      <td>2</td>    <td>59.7049</td>   <td>0.0</td>   <td>49.0917</td>  <td>70.3181</td>  <td>True</td> \n",
              "</tr>\n",
              "<tr>\n",
              "     <td>1</td>      <td>3</td>    <td>33.7026</td>   <td>0.0</td>   <td>24.839</td>   <td>42.5662</td>  <td>True</td> \n",
              "</tr>\n",
              "<tr>\n",
              "     <td>2</td>      <td>3</td>   <td>-26.0023</td>   <td>0.0</td>  <td>-35.7584</td> <td>-16.2461</td>  <td>True</td> \n",
              "</tr>\n",
              "</table>"
            ]
          },
          "metadata": {},
          "execution_count": 70
        }
      ]
    }
  ]
}